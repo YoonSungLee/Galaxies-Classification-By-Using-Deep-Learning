{
  "nbformat": 4,
  "nbformat_minor": 0,
  "metadata": {
    "colab": {
      "name": "Pratice.ipynb",
      "provenance": [],
      "collapsed_sections": [],
      "authorship_tag": "ABX9TyO+VPgFZBetza8E+NeuV+Zu",
      "include_colab_link": true
    },
    "kernelspec": {
      "name": "python3",
      "display_name": "Python 3"
    },
    "accelerator": "GPU"
  },
  "cells": [
    {
      "cell_type": "markdown",
      "metadata": {
        "id": "view-in-github",
        "colab_type": "text"
      },
      "source": [
        "<a href=\"https://colab.research.google.com/github/YoonSungLee/Galaxies-Classification-By-Using-Deep-Learning/blob/master/Pratice.ipynb\" target=\"_parent\"><img src=\"https://colab.research.google.com/assets/colab-badge.svg\" alt=\"Open In Colab\"/></a>"
      ]
    },
    {
      "cell_type": "code",
      "metadata": {
        "id": "YkS4NCnNQcrJ",
        "colab_type": "code",
        "colab": {
          "base_uri": "https://localhost:8080/",
          "height": 131
        },
        "outputId": "c6d5088e-6fdd-4775-a13e-9ceee1e3ca37"
      },
      "source": [
        "# 구글 드라이브 mount\n",
        "\n",
        "from google.colab import drive\n",
        "drive.mount('/content/gdrive')"
      ],
      "execution_count": 1,
      "outputs": [
        {
          "output_type": "stream",
          "text": [
            "Go to this URL in a browser: https://accounts.google.com/o/oauth2/auth?client_id=947318989803-6bn6qk8qdgf4n4g3pfee6491hc0brc4i.apps.googleusercontent.com&redirect_uri=urn%3aietf%3awg%3aoauth%3a2.0%3aoob&response_type=code&scope=email%20https%3a%2f%2fwww.googleapis.com%2fauth%2fdocs.test%20https%3a%2f%2fwww.googleapis.com%2fauth%2fdrive%20https%3a%2f%2fwww.googleapis.com%2fauth%2fdrive.photos.readonly%20https%3a%2f%2fwww.googleapis.com%2fauth%2fpeopleapi.readonly\n",
            "\n",
            "Enter your authorization code:\n",
            "··········\n",
            "Mounted at /content/gdrive\n"
          ],
          "name": "stdout"
        }
      ]
    },
    {
      "cell_type": "code",
      "metadata": {
        "id": "yIGV6SqpQlKL",
        "colab_type": "code",
        "colab": {}
      },
      "source": [
        "# 패키지 불러오기\n",
        "import numpy as np\n",
        "from keras.models import Sequential\n",
        "from keras.layers import Dense, Dropout, Activation, Flatten\n",
        "from keras.layers import Conv2D, MaxPooling2D, GlobalAveragePooling2D, BatchNormalization\n",
        "from keras.preprocessing.image import ImageDataGenerator\n",
        "from keras.callbacks import EarlyStopping, ModelCheckpoint"
      ],
      "execution_count": 0,
      "outputs": []
    },
    {
      "cell_type": "code",
      "metadata": {
        "id": "drVNKs9vSajR",
        "colab_type": "code",
        "colab": {
          "base_uri": "https://localhost:8080/",
          "height": 73
        },
        "outputId": "671d5831-49f5-4d4a-8e5c-c040c827697c"
      },
      "source": [
        "# 랜덤시드 고정\n",
        "np.random.seed(3)\n",
        "\n",
        "# 데이터 생성\n",
        "# rescale: rescaling factor. Defaults to None.\n",
        "# If None or 0, no rescaling is applied, otherwise we multiply the data by the value provided (before applying any other transformation).\n",
        "train_datagen = ImageDataGenerator(rescale=1./255)\n",
        "\n",
        "train_generator = train_datagen.flow_from_directory(\n",
        "    '/content/gdrive/My Drive/Galaxies-Classification-By-Using-Deep-Learing/datasets/train_galaxy', # 파일 경로\n",
        "    target_size=(50,50), # 이미지의 크기\n",
        "    batch_size=16,# 배치 크기\n",
        "    class_mode='categorical'# 분류 방식\n",
        ")\n",
        "\n",
        "val_datagen = ImageDataGenerator(rescale=1./255)\n",
        "\n",
        "val_generator = val_datagen.flow_from_directory(\n",
        "    '/content/gdrive/My Drive/Galaxies-Classification-By-Using-Deep-Learing/datasets/val_galaxy', # 파일 경로\n",
        "    target_size=(50,50), # 이미지의 크기\n",
        "    batch_size=16,# 배치 크기\n",
        "    class_mode='categorical'# 분류 방식\n",
        ")\n",
        "\n",
        "test_datagen = ImageDataGenerator(rescale=1./255)\n",
        "\n",
        "test_generator = test_datagen.flow_from_directory(\n",
        "    '/content/gdrive/My Drive/Galaxies-Classification-By-Using-Deep-Learing/datasets/test_galaxy', # 파일 경로\n",
        "    target_size=(50,50), # 이미지의 크기\n",
        "    batch_size=16,# 배치 크기\n",
        "    class_mode='categorical'# 분류 방식\n",
        ")"
      ],
      "execution_count": 3,
      "outputs": [
        {
          "output_type": "stream",
          "text": [
            "Found 10249 images belonging to 3 classes.\n",
            "Found 600 images belonging to 3 classes.\n",
            "Found 600 images belonging to 3 classes.\n"
          ],
          "name": "stdout"
        }
      ]
    },
    {
      "cell_type": "markdown",
      "metadata": {
        "id": "Qc1a5wUCTT--",
        "colab_type": "text"
      },
      "source": [
        "ImageDataGenerator를 이용하는 과정에서 batch_size의 결정이 하나의 이슈가 될 수 있다. 공개되어있는 많은 코드들을 보면 2의 제곱꼴의 형태로 이 값을 설정하는 것을 확인할 수 있다. 따라서 16으로 설정한다."
      ]
    },
    {
      "cell_type": "code",
      "metadata": {
        "id": "2vhxnMBPT1Lh",
        "colab_type": "code",
        "colab": {}
      },
      "source": [
        "# 모델 설계\n",
        "\n",
        "def create_model():\n",
        "    n_kernels = 16\n",
        "    model = Sequential()\n",
        "\n",
        "    # N, 50, 50, 3\n",
        "    model.add(Conv2D(n_kernels*2, kernel_size=(3,3), activation='relu', kernel_initializer='he_normal', padding='valid', input_shape=(50,50,3)))\n",
        "    # N, 48, 48, 32\n",
        "    model.add(BatchNormalization())\n",
        "    # N, 48, 48, 32\n",
        "    model.add(MaxPooling2D(pool_size=(2,2)))\n",
        "    # N, 24, 24, 32\n",
        "    model.add(Conv2D(n_kernels*2, kernel_size=(3,3), activation='relu', kernel_initializer='he_normal', padding='valid'))\n",
        "    # N, 22, 22, 32\n",
        "    model.add(Conv2D(n_kernels*4, kernel_size=(3,3), activation='relu', kernel_initializer='he_normal', padding='valid'))\n",
        "    # N, 20, 20, 64\n",
        "    model.add(BatchNormalization())\n",
        "    # N, 20, 20, 64\n",
        "    model.add(MaxPooling2D(pool_size=(2,2)))\n",
        "    # N, 10, 10, 64\n",
        "    model.add(Conv2D(n_kernels*4, kernel_size=(3,3), activation='relu', kernel_initializer='he_normal', padding='valid'))\n",
        "    # N, 8, 8, 64\n",
        "    model.add(Conv2D(n_kernels*8, kernel_size=(3,3), activation='relu', kernel_initializer='he_normal', padding='valid'))\n",
        "    # N, 6, 6, 128\n",
        "    model.add(BatchNormalization())\n",
        "    # N, 6, 6, 128\n",
        "    model.add(MaxPooling2D(pool_size=(2,2)))\n",
        "    # N, 3, 3, 128\n",
        "\n",
        "    model.add(GlobalAveragePooling2D())\n",
        "    # N, 128\n",
        "    # model.add(Dense(128, activation='relu'))\n",
        "    # model.add(Dropout(0.3))\n",
        "    model.add(Dense(3, activation='softmax'))\n",
        "    # N, 3\n",
        "\n",
        "    # 모델 학습과정 설정\n",
        "    model.compile(loss = 'categorical_crossentropy', optimizer = 'adam', metrics = ['accuracy'])\n",
        "\n",
        "    return model"
      ],
      "execution_count": 0,
      "outputs": []
    },
    {
      "cell_type": "markdown",
      "metadata": {
        "id": "9tO2Z95bZzAA",
        "colab_type": "text"
      },
      "source": [
        "### 모델 설계\n",
        "* AI Innovation Square에서 배운 CNN의 몇 가지 모델링 기법을 적용했다.\n",
        "* feature map이 홀수가 되는 것을 방지하기 위해 첫 번째 Convolution Layer는 1개만 쌓는 방식을 택했다.\n",
        "* 과적합을 방지하고 정규화를 위해 Convolution Layer 사이에 BatchNormalization을 적용했다.\n",
        "* 기존의 CNN에서 feature map을 flatten하는 방식이 비효율적이라고 판단하여 새롭게 등장한 방법인 GlobalAveragePoolin2D를 적용하여 마지막 Layer와 연결했다(이는 각 feature map의 평균을 구해서 flatten처럼 길게 배열).\n",
        "* 마지막 Layer에서 Dense Layer를 더 추가하지 않았다. 만약 추가한다면 Dense Layer 사이에 Dropout을 이용하여 과적합을 방지하는 전략을 써야 할 것이다.\n",
        "* Convolution Layer : activation='relu'(CNN에서 좋은 효과를 보이는 활성화함수 적용)\n",
        "* Convolution Layer : kernel_initializer='he_normal'(activation function을 relu로 설정했기 때문)\n",
        "* Dense Layer : activation='softmax'(다중 분류문제이기 때문)"
      ]
    },
    {
      "cell_type": "code",
      "metadata": {
        "id": "Xhe7kzpcdQyr",
        "colab_type": "code",
        "colab": {}
      },
      "source": [
        ""
      ],
      "execution_count": 0,
      "outputs": []
    },
    {
      "cell_type": "markdown",
      "metadata": {
        "id": "OmDg6upfdaAs",
        "colab_type": "text"
      },
      "source": [
        "### Early Stopping 의 개념과 Keras 를 통한 구현\n",
        "* https://3months.tistory.com/424"
      ]
    },
    {
      "cell_type": "code",
      "metadata": {
        "id": "wFGv1bxPdhW_",
        "colab_type": "code",
        "colab": {}
      },
      "source": [
        ""
      ],
      "execution_count": 0,
      "outputs": []
    }
  ]
}