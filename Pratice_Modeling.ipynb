{
  "nbformat": 4,
  "nbformat_minor": 0,
  "metadata": {
    "colab": {
      "name": "Pratice_Modeling.ipynb",
      "provenance": [],
      "collapsed_sections": [],
      "authorship_tag": "ABX9TyNdsn4pKaKdeezaOrlHBiMa",
      "include_colab_link": true
    },
    "kernelspec": {
      "name": "python3",
      "display_name": "Python 3"
    },
    "accelerator": "GPU"
  },
  "cells": [
    {
      "cell_type": "markdown",
      "metadata": {
        "id": "view-in-github",
        "colab_type": "text"
      },
      "source": [
        "<a href=\"https://colab.research.google.com/github/YoonSungLee/Galaxies-Classification-By-Using-Deep-Learning/blob/master/Pratice_Modeling.ipynb\" target=\"_parent\"><img src=\"https://colab.research.google.com/assets/colab-badge.svg\" alt=\"Open In Colab\"/></a>"
      ]
    },
    {
      "cell_type": "code",
      "metadata": {
        "id": "YkS4NCnNQcrJ",
        "colab_type": "code",
        "outputId": "d10d1ff1-aba9-4b74-a800-cef65d35c8db",
        "colab": {
          "base_uri": "https://localhost:8080/",
          "height": 131
        }
      },
      "source": [
        "# 구글 드라이브 mount\n",
        "\n",
        "from google.colab import drive\n",
        "drive.mount('/content/gdrive')"
      ],
      "execution_count": 0,
      "outputs": [
        {
          "output_type": "stream",
          "text": [
            "Go to this URL in a browser: https://accounts.google.com/o/oauth2/auth?client_id=947318989803-6bn6qk8qdgf4n4g3pfee6491hc0brc4i.apps.googleusercontent.com&redirect_uri=urn%3aietf%3awg%3aoauth%3a2.0%3aoob&response_type=code&scope=email%20https%3a%2f%2fwww.googleapis.com%2fauth%2fdocs.test%20https%3a%2f%2fwww.googleapis.com%2fauth%2fdrive%20https%3a%2f%2fwww.googleapis.com%2fauth%2fdrive.photos.readonly%20https%3a%2f%2fwww.googleapis.com%2fauth%2fpeopleapi.readonly\n",
            "\n",
            "Enter your authorization code:\n",
            "··········\n",
            "Mounted at /content/gdrive\n"
          ],
          "name": "stdout"
        }
      ]
    },
    {
      "cell_type": "code",
      "metadata": {
        "id": "yIGV6SqpQlKL",
        "colab_type": "code",
        "outputId": "a825506d-6535-429a-b0e1-927ed0b37a42",
        "colab": {
          "base_uri": "https://localhost:8080/",
          "height": 84
        }
      },
      "source": [
        "# 패키지 불러오기\n",
        "import numpy as np\n",
        "from keras.models import Sequential\n",
        "from keras.layers import Dense, Dropout, Activation, Flatten\n",
        "from keras.layers import Conv2D, MaxPooling2D, GlobalAveragePooling2D, BatchNormalization\n",
        "from keras.preprocessing.image import ImageDataGenerator\n",
        "from keras.callbacks import EarlyStopping, ModelCheckpoint"
      ],
      "execution_count": 0,
      "outputs": [
        {
          "output_type": "stream",
          "text": [
            "Using TensorFlow backend.\n"
          ],
          "name": "stderr"
        },
        {
          "output_type": "display_data",
          "data": {
            "text/html": [
              "<p style=\"color: red;\">\n",
              "The default version of TensorFlow in Colab will soon switch to TensorFlow 2.x.<br>\n",
              "We recommend you <a href=\"https://www.tensorflow.org/guide/migrate\" target=\"_blank\">upgrade</a> now \n",
              "or ensure your notebook will continue to use TensorFlow 1.x via the <code>%tensorflow_version 1.x</code> magic:\n",
              "<a href=\"https://colab.research.google.com/notebooks/tensorflow_version.ipynb\" target=\"_blank\">more info</a>.</p>\n"
            ],
            "text/plain": [
              "<IPython.core.display.HTML object>"
            ]
          },
          "metadata": {
            "tags": []
          }
        }
      ]
    },
    {
      "cell_type": "code",
      "metadata": {
        "id": "drVNKs9vSajR",
        "colab_type": "code",
        "outputId": "bff6f6a4-4868-4ffc-c4b4-557fef6901ab",
        "colab": {
          "base_uri": "https://localhost:8080/",
          "height": 73
        }
      },
      "source": [
        "# 랜덤시드 고정\n",
        "np.random.seed(3)\n",
        "\n",
        "# 데이터 생성\n",
        "# rescale: rescaling factor. Defaults to None.\n",
        "# If None or 0, no rescaling is applied, otherwise we multiply the data by the value provided (before applying any other transformation).\n",
        "train_datagen = ImageDataGenerator(rescale=1./255)\n",
        "\n",
        "train_generator = train_datagen.flow_from_directory(\n",
        "    '/content/gdrive/My Drive/Galaxies-Classification-By-Using-Deep-Learing/datasets/train_galaxy', # 파일 경로\n",
        "    target_size=(50,50), # 이미지의 크기\n",
        "    batch_size=16,# 배치 크기\n",
        "    class_mode='categorical'# 분류 방식\n",
        ")\n",
        "\n",
        "val_datagen = ImageDataGenerator(rescale=1./255)\n",
        "\n",
        "val_generator = val_datagen.flow_from_directory(\n",
        "    '/content/gdrive/My Drive/Galaxies-Classification-By-Using-Deep-Learing/datasets/val_galaxy', # 파일 경로\n",
        "    target_size=(50,50), # 이미지의 크기\n",
        "    batch_size=16,# 배치 크기\n",
        "    class_mode='categorical'# 분류 방식\n",
        ")\n",
        "\n",
        "test_datagen = ImageDataGenerator(rescale=1./255)\n",
        "\n",
        "test_generator = test_datagen.flow_from_directory(\n",
        "    '/content/gdrive/My Drive/Galaxies-Classification-By-Using-Deep-Learing/datasets/test_galaxy', # 파일 경로\n",
        "    target_size=(50,50), # 이미지의 크기\n",
        "    batch_size=16,# 배치 크기\n",
        "    class_mode='categorical'# 분류 방식\n",
        ")"
      ],
      "execution_count": 0,
      "outputs": [
        {
          "output_type": "stream",
          "text": [
            "Found 10249 images belonging to 3 classes.\n",
            "Found 600 images belonging to 3 classes.\n",
            "Found 600 images belonging to 3 classes.\n"
          ],
          "name": "stdout"
        }
      ]
    },
    {
      "cell_type": "markdown",
      "metadata": {
        "id": "Qc1a5wUCTT--",
        "colab_type": "text"
      },
      "source": [
        "ImageDataGenerator를 이용하는 과정에서 batch_size의 결정이 하나의 이슈가 될 수 있다. 공개되어있는 많은 코드들을 보면 2의 제곱꼴의 형태로 이 값을 설정하는 것을 확인할 수 있다. 따라서 16으로 설정한다."
      ]
    },
    {
      "cell_type": "markdown",
      "metadata": {
        "id": "nVNhUDLbVZn0",
        "colab_type": "text"
      },
      "source": [
        "# Model 1"
      ]
    },
    {
      "cell_type": "markdown",
      "metadata": {
        "id": "sjLFFo7bKczx",
        "colab_type": "text"
      },
      "source": [
        "* AI Innovation Square에서 배운 CNN의 몇 가지 모델링 기법을 적용했다.\n",
        "* feature map이 홀수가 되는 것을 방지하기 위해 첫 번째 Convolution Layer는 1개만 쌓는 방식을 택했다.\n",
        "* 과적합을 방지하고 정규화를 위해 Convolution Layer 사이에 BatchNormalization을 적용했다.\n",
        "* 기존의 CNN에서 feature map을 flatten하는 방식이 비효율적이라고 판단하여 새롭게 등장한 방법인 GlobalAveragePoolin2D를 적용하여 마지막 Layer와 연결했다(이는 각 feature map의 평균을 구해서 flatten처럼 길게 배열).\n",
        "* 마지막 Layer에서 Dense Layer를 더 추가하지 않았다. 만약 추가한다면 Dense Layer 사이에 Dropout을 이용하여 과적합을 방지하는 전략을 써야 할 것이다.\n",
        "* Convolution Layer : activation='relu'(CNN에서 좋은 효과를 보이는 활성화함수 적용)\n",
        "* Convolution Layer : kernel_initializer='he_normal'(activation function을 relu로 설정했기 때문)\n",
        "* Dense Layer : activation='softmax'(다중 분류문제이기 때문)"
      ]
    },
    {
      "cell_type": "code",
      "metadata": {
        "id": "2vhxnMBPT1Lh",
        "colab_type": "code",
        "colab": {}
      },
      "source": [
        "# 모델 설계\n",
        "\n",
        "def create_model():\n",
        "    n_kernels = 16\n",
        "    model = Sequential()\n",
        "\n",
        "    # N, 50, 50, 3\n",
        "    model.add(Conv2D(n_kernels*2, kernel_size=(3,3), activation='relu', kernel_initializer='he_normal', padding='valid', input_shape=(50,50,3)))\n",
        "    # N, 48, 48, 32\n",
        "    model.add(BatchNormalization())\n",
        "    # N, 48, 48, 32\n",
        "    model.add(MaxPooling2D(pool_size=(2,2)))\n",
        "    # N, 24, 24, 32\n",
        "    model.add(Conv2D(n_kernels*2, kernel_size=(3,3), activation='relu', kernel_initializer='he_normal', padding='valid'))\n",
        "    # N, 22, 22, 32\n",
        "    model.add(Conv2D(n_kernels*4, kernel_size=(3,3), activation='relu', kernel_initializer='he_normal', padding='valid'))\n",
        "    # N, 20, 20, 64\n",
        "    model.add(BatchNormalization())\n",
        "    # N, 20, 20, 64\n",
        "    model.add(MaxPooling2D(pool_size=(2,2)))\n",
        "    # N, 10, 10, 64\n",
        "    model.add(Conv2D(n_kernels*4, kernel_size=(3,3), activation='relu', kernel_initializer='he_normal', padding='valid'))\n",
        "    # N, 8, 8, 64\n",
        "    model.add(Conv2D(n_kernels*8, kernel_size=(3,3), activation='relu', kernel_initializer='he_normal', padding='valid'))\n",
        "    # N, 6, 6, 128\n",
        "    model.add(BatchNormalization())\n",
        "    # N, 6, 6, 128\n",
        "    model.add(MaxPooling2D(pool_size=(2,2)))\n",
        "    # N, 3, 3, 128\n",
        "\n",
        "    model.add(GlobalAveragePooling2D())\n",
        "    # N, 128\n",
        "    model.add(Dense(3, activation='softmax'))\n",
        "    # N, 3\n",
        "\n",
        "    # 모델 학습과정 설정\n",
        "    model.compile(loss = 'categorical_crossentropy', optimizer = 'adam', metrics = ['accuracy'])\n",
        "\n",
        "    return model"
      ],
      "execution_count": 0,
      "outputs": []
    },
    {
      "cell_type": "code",
      "metadata": {
        "id": "Rf51k5qv5wfm",
        "colab_type": "code",
        "colab": {}
      },
      "source": [
        "# 학습 조기종료\n",
        "\n",
        "es = EarlyStopping(monitor='val_loss', mode='min', verbose=1, patience=10)"
      ],
      "execution_count": 0,
      "outputs": []
    },
    {
      "cell_type": "code",
      "metadata": {
        "id": "gJHKvFcN7WNR",
        "colab_type": "code",
        "colab": {}
      },
      "source": [
        "# 최적 모델 선택 기법\n",
        "\n",
        "filepath = '/content/gdrive/My Drive/Galaxies-Classification-By-Using-Deep-Learing/best_model-{epoch:02d}-{val_acc:.2f}.h5'\n",
        "mc = ModelCheckpoint(filepath, monitor='val_loss', mode='min', save_best_only=True)"
      ],
      "execution_count": 0,
      "outputs": []
    },
    {
      "cell_type": "markdown",
      "metadata": {
        "id": "HVR_Fj6e9Nim",
        "colab_type": "text"
      },
      "source": [
        "epoch 당 시간이 많이 소요되기 때문에 전체 학습곡선을 보고 오버피팅 여부를 판단하기에는 너무나도 비효율적이다. 따라서 EarlyStopping을 통해 오버피팅을 스스로 감지하여 학습을 조기종료시키도록 설정하고, ModelCheckpoint를 통해 그 시점을 기준으로 지금까지 학습한 파라미터들 중 가장 좋은 성능을 보였던 파라미터를 가지고 있는 모델을 저장하도록 설정한다. 물론 오버피팅의 여부를 판단하는 patience라던지 ModelCheckpoint의 기준이 되는 'val_loss'는 개발자가 설정하는 값으로, 이 또한 하나의 이슈가 될 수 있다."
      ]
    },
    {
      "cell_type": "markdown",
      "metadata": {
        "id": "Kc_s9hLp6N9n",
        "colab_type": "text"
      },
      "source": [
        "keras.callbacks.EarlyStopping(monitor='val_loss', min_delta=0, patience=0, verbose=0, mode='auto')"
      ]
    },
    {
      "cell_type": "markdown",
      "metadata": {
        "id": "7o9sxJNU6P_r",
        "colab_type": "text"
      },
      "source": [
        "* monitor : 관찰하고자 하는 항목입니다. ‘val_loss’나 ‘val_acc’가 주로 사용됩니다.\n",
        "* min_delta : 개선되고 있다고 판단하기 위한 최소 변화량을 나타냅니다. 만약 변화량이 min_delta보다 적은 경우에는 개선이 없다고 판단합니다.\n",
        "* patience : 개선이 없다고 바로 종료하지 않고 개선이 없는 에포크를 얼마나 기다려 줄 것인가를 지정합니다. 만약 10이라고 지정하면 개선이 없는 에포크가 10번째 지속될 경우 학습을 종료합니다.\n",
        "* verbose : 얼마나 자세하게 정보를 표시할 것인가를 지정합니다. (0, 1, 2)\n",
        "* mode : 관찰 항목에 대해 개선이 없다고 판단하기 위한 기준을 지정합니다. 예를 들어 관찰 항목이 ‘val_loss’인 경우에는 감소되는 것이 멈출 때 종료되어야 하므로, ‘min’으로 설정됩니다.\n",
        " * auto : 관찰하는 이름에 따라 자동으로 지정합니다.\n",
        " * min : 관찰하고 있는 항목이 감소되는 것을 멈출 때 종료합니다.\n",
        " * max : 관찰하고 있는 항목이 증가되는 것을 멈출 때 종료합니다."
      ]
    },
    {
      "cell_type": "code",
      "metadata": {
        "id": "Xhe7kzpcdQyr",
        "colab_type": "code",
        "outputId": "b70e652f-5342-4980-c435-a2870407fa96",
        "colab": {
          "base_uri": "https://localhost:8080/",
          "height": 652
        }
      },
      "source": [
        "# 모델 생성\n",
        "\n",
        "model = create_model()\n",
        "model.summary()"
      ],
      "execution_count": 0,
      "outputs": [
        {
          "output_type": "stream",
          "text": [
            "Model: \"sequential_3\"\n",
            "_________________________________________________________________\n",
            "Layer (type)                 Output Shape              Param #   \n",
            "=================================================================\n",
            "conv2d_11 (Conv2D)           (None, 48, 48, 32)        896       \n",
            "_________________________________________________________________\n",
            "batch_normalization_7 (Batch (None, 48, 48, 32)        128       \n",
            "_________________________________________________________________\n",
            "max_pooling2d_7 (MaxPooling2 (None, 24, 24, 32)        0         \n",
            "_________________________________________________________________\n",
            "conv2d_12 (Conv2D)           (None, 22, 22, 32)        9248      \n",
            "_________________________________________________________________\n",
            "conv2d_13 (Conv2D)           (None, 20, 20, 64)        18496     \n",
            "_________________________________________________________________\n",
            "batch_normalization_8 (Batch (None, 20, 20, 64)        256       \n",
            "_________________________________________________________________\n",
            "max_pooling2d_8 (MaxPooling2 (None, 10, 10, 64)        0         \n",
            "_________________________________________________________________\n",
            "conv2d_14 (Conv2D)           (None, 8, 8, 64)          36928     \n",
            "_________________________________________________________________\n",
            "conv2d_15 (Conv2D)           (None, 6, 6, 128)         73856     \n",
            "_________________________________________________________________\n",
            "batch_normalization_9 (Batch (None, 6, 6, 128)         512       \n",
            "_________________________________________________________________\n",
            "max_pooling2d_9 (MaxPooling2 (None, 3, 3, 128)         0         \n",
            "_________________________________________________________________\n",
            "global_average_pooling2d_3 ( (None, 128)               0         \n",
            "_________________________________________________________________\n",
            "dense_3 (Dense)              (None, 3)                 387       \n",
            "=================================================================\n",
            "Total params: 140,707\n",
            "Trainable params: 140,259\n",
            "Non-trainable params: 448\n",
            "_________________________________________________________________\n"
          ],
          "name": "stdout"
        }
      ]
    },
    {
      "cell_type": "code",
      "metadata": {
        "id": "mc9pGKP0AvIx",
        "colab_type": "code",
        "outputId": "6d4d13f3-866f-4416-a717-e7f50ceafbc4",
        "colab": {
          "base_uri": "https://localhost:8080/",
          "height": 653
        }
      },
      "source": [
        "# 모델 학습시키기\n",
        "\n",
        "hist = model.fit_generator(\n",
        "    train_generator,\n",
        "    steps_per_epoch=640,\n",
        "    epochs=100,\n",
        "    validation_data=val_generator,\n",
        "    validation_steps=30,\n",
        "    callbacks=[es,mc]\n",
        ")"
      ],
      "execution_count": 0,
      "outputs": [
        {
          "output_type": "stream",
          "text": [
            "Epoch 1/100\n",
            "640/640 [==============================] - 4587s 7s/step - loss: 0.5808 - acc: 0.7636 - val_loss: 0.6592 - val_acc: 0.7542\n",
            "Epoch 2/100\n",
            "640/640 [==============================] - 51s 80ms/step - loss: 0.4871 - acc: 0.8086 - val_loss: 0.4217 - val_acc: 0.8559\n",
            "Epoch 3/100\n",
            "640/640 [==============================] - 17s 27ms/step - loss: 0.4427 - acc: 0.8262 - val_loss: 0.4933 - val_acc: 0.8072\n",
            "Epoch 4/100\n",
            "640/640 [==============================] - 17s 26ms/step - loss: 0.4141 - acc: 0.8381 - val_loss: 0.4954 - val_acc: 0.8008\n",
            "Epoch 5/100\n",
            "640/640 [==============================] - 17s 26ms/step - loss: 0.3907 - acc: 0.8512 - val_loss: 0.3824 - val_acc: 0.8562\n",
            "Epoch 6/100\n",
            "640/640 [==============================] - 17s 26ms/step - loss: 0.3730 - acc: 0.8532 - val_loss: 0.3339 - val_acc: 0.8856\n",
            "Epoch 7/100\n",
            "640/640 [==============================] - 17s 26ms/step - loss: 0.3469 - acc: 0.8639 - val_loss: 0.4034 - val_acc: 0.8538\n",
            "Epoch 8/100\n",
            "640/640 [==============================] - 17s 26ms/step - loss: 0.3277 - acc: 0.8717 - val_loss: 0.3363 - val_acc: 0.8729\n",
            "Epoch 9/100\n",
            "640/640 [==============================] - 17s 26ms/step - loss: 0.3042 - acc: 0.8803 - val_loss: 0.3875 - val_acc: 0.8686\n",
            "Epoch 10/100\n",
            "640/640 [==============================] - 17s 26ms/step - loss: 0.2763 - acc: 0.8922 - val_loss: 0.6109 - val_acc: 0.7750\n",
            "Epoch 11/100\n",
            "640/640 [==============================] - 17s 26ms/step - loss: 0.2522 - acc: 0.9021 - val_loss: 0.5122 - val_acc: 0.8369\n",
            "Epoch 12/100\n",
            "640/640 [==============================] - 17s 27ms/step - loss: 0.2082 - acc: 0.9207 - val_loss: 0.4382 - val_acc: 0.8517\n",
            "Epoch 13/100\n",
            "640/640 [==============================] - 17s 26ms/step - loss: 0.1797 - acc: 0.9323 - val_loss: 0.6573 - val_acc: 0.7797\n",
            "Epoch 14/100\n",
            "640/640 [==============================] - 17s 26ms/step - loss: 0.1529 - acc: 0.9406 - val_loss: 0.5072 - val_acc: 0.8559\n",
            "Epoch 15/100\n",
            "640/640 [==============================] - 17s 26ms/step - loss: 0.1285 - acc: 0.9520 - val_loss: 0.5127 - val_acc: 0.8333\n",
            "Epoch 16/100\n",
            "640/640 [==============================] - 17s 26ms/step - loss: 0.1005 - acc: 0.9623 - val_loss: 0.4435 - val_acc: 0.8708\n",
            "Epoch 00016: early stopping\n"
          ],
          "name": "stdout"
        }
      ]
    },
    {
      "cell_type": "code",
      "metadata": {
        "id": "8OzOgOqL-vaw",
        "colab_type": "code",
        "outputId": "dbe88a2a-7d64-4f60-b399-75c82239fc77",
        "colab": {
          "base_uri": "https://localhost:8080/",
          "height": 279
        }
      },
      "source": [
        "# 모델 학습 과정 표시하기\n",
        "\n",
        "%matplotlib inline\n",
        "import matplotlib.pyplot as plt\n",
        "\n",
        "fig, loss_ax = plt.subplots()\n",
        "\n",
        "acc_ax = loss_ax.twinx()\n",
        "\n",
        "loss_ax.plot(hist.history['loss'], 'y', label='train loss')\n",
        "loss_ax.plot(hist.history['val_loss'], 'r', label='val loss')\n",
        "\n",
        "acc_ax.plot(hist.history['acc'], 'b', label='train acc')\n",
        "acc_ax.plot(hist.history['val_acc'], 'g', label='val acc')\n",
        "\n",
        "loss_ax.set_xlabel('epoch')\n",
        "loss_ax.set_ylabel('loss')\n",
        "acc_ax.set_ylabel('accuray')\n",
        "\n",
        "loss_ax.legend(loc='upper left')\n",
        "acc_ax.legend(loc='lower left')\n",
        "\n",
        "plt.show()"
      ],
      "execution_count": 0,
      "outputs": [
        {
          "output_type": "display_data",
          "data": {
            "image/png": "[encoded data removed]",
            "text/plain": [
              "<Figure size 432x288 with 2 Axes>"
            ]
          },
          "metadata": {
            "tags": []
          }
        }
      ]
    },
    {
      "cell_type": "markdown",
      "metadata": {
        "id": "cqsJGl52WGY2",
        "colab_type": "text"
      },
      "source": [
        "# Model 1 Feedback"
      ]
    },
    {
      "cell_type": "markdown",
      "metadata": {
        "id": "-yw_Ta87WK7d",
        "colab_type": "text"
      },
      "source": [
        "* best_model-06-0.89.h5\n",
        "* 모델 학습곡선을 살펴보면 train data에 대해서는 꾸준한 학습을 보이는 데 반해, validation data에 대해서는 결과값들이 들쭉날쭉하고 좋은 성능을 보이지 못하고 있다.\n",
        "* fully-connected layer의 층을 두껍게 하고 Dropout을 추가하는 방법을 적용해볼 수 있다. 추가적으로 GlobalAveragePooling2D의 적용이 이 데이터셋에 대해서는 좋지 않은 성능을 보일 수 있으므로 단순히 Flatten을 적용하는 방법도 고려해볼 수 있다.\n",
        "* 학습 조기종료가 상대적으로 빨리 이루어진듯한 느낌이 있다. 이는 Overfitting이 너무 빨리 이루어졌거나 Local Minimum Problem일 가능성이 있다. 이를 좀 더 잘 판단하기 위해 EarlyStopping의 patience을 조정해줄 필요가 있다.\n",
        "* 위의 Feedback을 했는데도 큰 발전이 없다면 Convolution Layer의 구조를 바꿀 수 밖에 없다."
      ]
    },
    {
      "cell_type": "markdown",
      "metadata": {
        "id": "oDHNIDL9Vfgz",
        "colab_type": "text"
      },
      "source": [
        "# Model 2"
      ]
    },
    {
      "cell_type": "markdown",
      "metadata": {
        "id": "n5bf5kcYKwtN",
        "colab_type": "text"
      },
      "source": [
        "* fully-connected layer에 Dense Layer와 Dropout 2개를 추가했다.\n",
        "* EarlyStopping의 patience을 20으로 늘려 학습 조기종료시간을 조금 더 늦췄다."
      ]
    },
    {
      "cell_type": "code",
      "metadata": {
        "id": "cWUP5oyCVfns",
        "colab_type": "code",
        "outputId": "92c90c7f-0931-449a-dc0b-e86e00703ee2",
        "colab": {
          "base_uri": "https://localhost:8080/",
          "height": 1000
        }
      },
      "source": [
        "# 모델 설계\n",
        "\n",
        "def create_model():\n",
        "    n_kernels = 16\n",
        "    model = Sequential()\n",
        "\n",
        "    # N, 50, 50, 3\n",
        "    model.add(Conv2D(n_kernels*2, kernel_size=(3,3), activation='relu', kernel_initializer='he_normal', padding='valid', input_shape=(50,50,3)))\n",
        "    # N, 48, 48, 32\n",
        "    model.add(BatchNormalization())\n",
        "    # N, 48, 48, 32\n",
        "    model.add(MaxPooling2D(pool_size=(2,2)))\n",
        "    # N, 24, 24, 32\n",
        "    model.add(Conv2D(n_kernels*2, kernel_size=(3,3), activation='relu', kernel_initializer='he_normal', padding='valid'))\n",
        "    # N, 22, 22, 32\n",
        "    model.add(Conv2D(n_kernels*4, kernel_size=(3,3), activation='relu', kernel_initializer='he_normal', padding='valid'))\n",
        "    # N, 20, 20, 64\n",
        "    model.add(BatchNormalization())\n",
        "    # N, 20, 20, 64\n",
        "    model.add(MaxPooling2D(pool_size=(2,2)))\n",
        "    # N, 10, 10, 64\n",
        "    model.add(Conv2D(n_kernels*4, kernel_size=(3,3), activation='relu', kernel_initializer='he_normal', padding='valid'))\n",
        "    # N, 8, 8, 64\n",
        "    model.add(Conv2D(n_kernels*8, kernel_size=(3,3), activation='relu', kernel_initializer='he_normal', padding='valid'))\n",
        "    # N, 6, 6, 128\n",
        "    model.add(BatchNormalization())\n",
        "    # N, 6, 6, 128\n",
        "    model.add(MaxPooling2D(pool_size=(2,2)))\n",
        "    # N, 3, 3, 128\n",
        "\n",
        "    model.add(GlobalAveragePooling2D())\n",
        "    # N, 128\n",
        "    model.add(Dense(128, activation='relu', kernel_initializer='he_normal'))\n",
        "    # N, 128\n",
        "    model.add(Dropout(0.3))\n",
        "    # N, 128\n",
        "    model.add(Dense(128, activation='relu', kernel_initializer='he_normal'))\n",
        "    # N, 128\n",
        "    model.add(Dropout(0.3))\n",
        "    # N, 128\n",
        "    model.add(Dense(3, activation='softmax', kernel_initializer='he_normal'))\n",
        "    # N, 3\n",
        "\n",
        "    # 모델 학습과정 설정\n",
        "    model.compile(loss = 'categorical_crossentropy', optimizer = 'adam', metrics = ['accuracy'])\n",
        "\n",
        "    return model\n",
        "\n",
        "# 학습 조기종료\n",
        "\n",
        "es = EarlyStopping(monitor='val_loss', mode='min', verbose=1, patience=20)\n",
        "\n",
        "# 최적 모델 선택 기법\n",
        "\n",
        "filepath = '/content/gdrive/My Drive/Galaxies-Classification-By-Using-Deep-Learing/best_model2-{epoch:02d}-{val_acc:.2f}.h5'\n",
        "mc = ModelCheckpoint(filepath, monitor='val_loss', mode='min', save_best_only=True)\n",
        "\n",
        "# 모델 생성\n",
        "\n",
        "model = create_model()\n",
        "model.summary()\n",
        "\n",
        "# 모델 학습시키기\n",
        "\n",
        "hist = model.fit_generator(\n",
        "    train_generator,\n",
        "    steps_per_epoch=640,\n",
        "    epochs=100,\n",
        "    validation_data=val_generator,\n",
        "    validation_steps=30,\n",
        "    callbacks=[es,mc]\n",
        ")"
      ],
      "execution_count": 0,
      "outputs": [
        {
          "output_type": "stream",
          "text": [
            "WARNING:tensorflow:From /usr/local/lib/python3.6/dist-packages/keras/backend/tensorflow_backend.py:3733: calling dropout (from tensorflow.python.ops.nn_ops) with keep_prob is deprecated and will be removed in a future version.\n",
            "Instructions for updating:\n",
            "Please use `rate` instead of `keep_prob`. Rate should be set to `rate = 1 - keep_prob`.\n",
            "Model: \"sequential_4\"\n",
            "_________________________________________________________________\n",
            "Layer (type)                 Output Shape              Param #   \n",
            "=================================================================\n",
            "conv2d_16 (Conv2D)           (None, 48, 48, 32)        896       \n",
            "_________________________________________________________________\n",
            "batch_normalization_10 (Batc (None, 48, 48, 32)        128       \n",
            "_________________________________________________________________\n",
            "max_pooling2d_10 (MaxPooling (None, 24, 24, 32)        0         \n",
            "_________________________________________________________________\n",
            "conv2d_17 (Conv2D)           (None, 22, 22, 32)        9248      \n",
            "_________________________________________________________________\n",
            "conv2d_18 (Conv2D)           (None, 20, 20, 64)        18496     \n",
            "_________________________________________________________________\n",
            "batch_normalization_11 (Batc (None, 20, 20, 64)        256       \n",
            "_________________________________________________________________\n",
            "max_pooling2d_11 (MaxPooling (None, 10, 10, 64)        0         \n",
            "_________________________________________________________________\n",
            "conv2d_19 (Conv2D)           (None, 8, 8, 64)          36928     \n",
            "_________________________________________________________________\n",
            "conv2d_20 (Conv2D)           (None, 6, 6, 128)         73856     \n",
            "_________________________________________________________________\n",
            "batch_normalization_12 (Batc (None, 6, 6, 128)         512       \n",
            "_________________________________________________________________\n",
            "max_pooling2d_12 (MaxPooling (None, 3, 3, 128)         0         \n",
            "_________________________________________________________________\n",
            "global_average_pooling2d_4 ( (None, 128)               0         \n",
            "_________________________________________________________________\n",
            "dense_4 (Dense)              (None, 128)               16512     \n",
            "_________________________________________________________________\n",
            "dropout_1 (Dropout)          (None, 128)               0         \n",
            "_________________________________________________________________\n",
            "dense_5 (Dense)              (None, 128)               16512     \n",
            "_________________________________________________________________\n",
            "dropout_2 (Dropout)          (None, 128)               0         \n",
            "_________________________________________________________________\n",
            "dense_6 (Dense)              (None, 3)                 387       \n",
            "=================================================================\n",
            "Total params: 173,731\n",
            "Trainable params: 173,283\n",
            "Non-trainable params: 448\n",
            "_________________________________________________________________\n",
            "Epoch 1/100\n",
            "640/640 [==============================] - 18s 29ms/step - loss: 0.6712 - acc: 0.7253 - val_loss: 0.7867 - val_acc: 0.7292\n",
            "Epoch 2/100\n",
            "640/640 [==============================] - 17s 26ms/step - loss: 0.5351 - acc: 0.7893 - val_loss: 0.4254 - val_acc: 0.8326\n",
            "Epoch 3/100\n",
            "640/640 [==============================] - 17s 26ms/step - loss: 0.4903 - acc: 0.8136 - val_loss: 0.3819 - val_acc: 0.8771\n",
            "Epoch 4/100\n",
            "640/640 [==============================] - 17s 26ms/step - loss: 0.4578 - acc: 0.8286 - val_loss: 0.4583 - val_acc: 0.8199\n",
            "Epoch 5/100\n",
            "640/640 [==============================] - 17s 26ms/step - loss: 0.4441 - acc: 0.8304 - val_loss: 0.4322 - val_acc: 0.8521\n",
            "Epoch 6/100\n",
            "640/640 [==============================] - 17s 27ms/step - loss: 0.4247 - acc: 0.8411 - val_loss: 0.5544 - val_acc: 0.8136\n",
            "Epoch 7/100\n",
            "640/640 [==============================] - 18s 28ms/step - loss: 0.4038 - acc: 0.8464 - val_loss: 0.4567 - val_acc: 0.8369\n",
            "Epoch 8/100\n",
            "640/640 [==============================] - 17s 27ms/step - loss: 0.3963 - acc: 0.8508 - val_loss: 0.4285 - val_acc: 0.8581\n",
            "Epoch 9/100\n",
            "640/640 [==============================] - 17s 27ms/step - loss: 0.3686 - acc: 0.8609 - val_loss: 0.3616 - val_acc: 0.8729\n",
            "Epoch 10/100\n",
            "640/640 [==============================] - 17s 26ms/step - loss: 0.3564 - acc: 0.8641 - val_loss: 0.4819 - val_acc: 0.7896\n",
            "Epoch 11/100\n",
            "640/640 [==============================] - 17s 26ms/step - loss: 0.3403 - acc: 0.8705 - val_loss: 0.4343 - val_acc: 0.8475\n",
            "Epoch 12/100\n",
            "640/640 [==============================] - 17s 26ms/step - loss: 0.3221 - acc: 0.8758 - val_loss: 0.4152 - val_acc: 0.8602\n",
            "Epoch 13/100\n",
            "640/640 [==============================] - 17s 26ms/step - loss: 0.3106 - acc: 0.8800 - val_loss: 0.4514 - val_acc: 0.8517\n",
            "Epoch 14/100\n",
            "640/640 [==============================] - 17s 26ms/step - loss: 0.2873 - acc: 0.8933 - val_loss: 0.4860 - val_acc: 0.8178\n",
            "Epoch 15/100\n",
            "640/640 [==============================] - 17s 26ms/step - loss: 0.2699 - acc: 0.8954 - val_loss: 0.5397 - val_acc: 0.8458\n",
            "Epoch 16/100\n",
            "640/640 [==============================] - 17s 26ms/step - loss: 0.2446 - acc: 0.9048 - val_loss: 0.4854 - val_acc: 0.8496\n",
            "Epoch 17/100\n",
            "640/640 [==============================] - 17s 26ms/step - loss: 0.2237 - acc: 0.9114 - val_loss: 0.3919 - val_acc: 0.8750\n",
            "Epoch 18/100\n",
            "640/640 [==============================] - 17s 26ms/step - loss: 0.1964 - acc: 0.9246 - val_loss: 0.5382 - val_acc: 0.8559\n",
            "Epoch 19/100\n",
            "640/640 [==============================] - 17s 26ms/step - loss: 0.1801 - acc: 0.9300 - val_loss: 0.5401 - val_acc: 0.8644\n",
            "Epoch 20/100\n",
            "640/640 [==============================] - 17s 27ms/step - loss: 0.1522 - acc: 0.9405 - val_loss: 0.6608 - val_acc: 0.8313\n",
            "Epoch 21/100\n",
            "640/640 [==============================] - 17s 27ms/step - loss: 0.1518 - acc: 0.9456 - val_loss: 0.5530 - val_acc: 0.8411\n",
            "Epoch 22/100\n",
            "640/640 [==============================] - 17s 26ms/step - loss: 0.1222 - acc: 0.9557 - val_loss: 0.7728 - val_acc: 0.8305\n",
            "Epoch 23/100\n",
            "640/640 [==============================] - 16s 26ms/step - loss: 0.1068 - acc: 0.9598 - val_loss: 0.5774 - val_acc: 0.8432\n",
            "Epoch 24/100\n",
            "640/640 [==============================] - 16s 26ms/step - loss: 0.1109 - acc: 0.9591 - val_loss: 0.8821 - val_acc: 0.8187\n",
            "Epoch 25/100\n",
            "640/640 [==============================] - 17s 26ms/step - loss: 0.0997 - acc: 0.9635 - val_loss: 0.7591 - val_acc: 0.8051\n",
            "Epoch 26/100\n",
            "640/640 [==============================] - 17s 26ms/step - loss: 0.0842 - acc: 0.9691 - val_loss: 0.9223 - val_acc: 0.8496\n",
            "Epoch 27/100\n",
            "640/640 [==============================] - 17s 26ms/step - loss: 0.0857 - acc: 0.9673 - val_loss: 0.7198 - val_acc: 0.8369\n",
            "Epoch 28/100\n",
            "640/640 [==============================] - 17s 27ms/step - loss: 0.0838 - acc: 0.9698 - val_loss: 1.2093 - val_acc: 0.8030\n",
            "Epoch 29/100\n",
            "640/640 [==============================] - 17s 26ms/step - loss: 0.0732 - acc: 0.9751 - val_loss: 0.6722 - val_acc: 0.8562\n",
            "Epoch 00029: early stopping\n"
          ],
          "name": "stdout"
        }
      ]
    },
    {
      "cell_type": "code",
      "metadata": {
        "id": "YcznmI2kVfs2",
        "colab_type": "code",
        "outputId": "11d929bc-e021-4259-f31b-1123c34772c0",
        "colab": {
          "base_uri": "https://localhost:8080/",
          "height": 279
        }
      },
      "source": [
        "# 모델 학습 과정 표시하기\n",
        "\n",
        "%matplotlib inline\n",
        "import matplotlib.pyplot as plt\n",
        "\n",
        "fig, loss_ax = plt.subplots()\n",
        "\n",
        "acc_ax = loss_ax.twinx()\n",
        "\n",
        "loss_ax.plot(hist.history['loss'], 'y', label='train loss')\n",
        "loss_ax.plot(hist.history['val_loss'], 'r', label='val loss')\n",
        "\n",
        "acc_ax.plot(hist.history['acc'], 'b', label='train acc')\n",
        "acc_ax.plot(hist.history['val_acc'], 'g', label='val acc')\n",
        "\n",
        "loss_ax.set_xlabel('epoch')\n",
        "loss_ax.set_ylabel('loss')\n",
        "acc_ax.set_ylabel('accuray')\n",
        "\n",
        "loss_ax.legend(loc='upper left')\n",
        "acc_ax.legend(loc='lower left')\n",
        "\n",
        "plt.show()"
      ],
      "execution_count": 0,
      "outputs": [
        {
          "output_type": "display_data",
          "data": {
            "image/png": "[encoded data removed]",
            "text/plain": [
              "<Figure size 432x288 with 2 Axes>"
            ]
          },
          "metadata": {
            "tags": []
          }
        }
      ]
    },
    {
      "cell_type": "markdown",
      "metadata": {
        "id": "nGlgEpnYVfyc",
        "colab_type": "text"
      },
      "source": [
        "# Model 2 Feedback"
      ]
    },
    {
      "cell_type": "markdown",
      "metadata": {
        "id": "Cyp4CtWdVf_r",
        "colab_type": "text"
      },
      "source": [
        "* best_model2-09-0.87.h5\n",
        "* Model 1과 비교하여 아주 미세하게 튀는 현상이 줄긴 했지만 여전히 validation data에 대해서 불안정한 결과가 많이 보인다.\n",
        "* fully-connected layer의 층을 쌓은 효과를 보지 못했다. 다른 방법으로는 GlobalAveragePooling2D 대신에 단순히 Flatten을 적용하여 feature map을 1차원 데이터로 펼치는 방법이다. GlobalAveragePooling2D이 Flatten보다 이미지 데이터에 대하여 좋은 성능을 보인다고는 하지만 모델링 방법에 따라 그리고 이미지 데이터의 특성에 따라 얼마든지 예외인 경우가 있을 수 있다.\n",
        "* 또한 마찬가지로 Overfitting 또는 Local Minimum Problem 등의 문제로 적은 수의 epoch으로 학습 조기 중단이 발생했다. 파라미터를 미세하게 수정할 필요가 있다."
      ]
    },
    {
      "cell_type": "markdown",
      "metadata": {
        "id": "5yL-8oIFVgEW",
        "colab_type": "text"
      },
      "source": [
        "# Model 3"
      ]
    },
    {
      "cell_type": "markdown",
      "metadata": {
        "id": "B1ODxl7HLLpk",
        "colab_type": "text"
      },
      "source": [
        "* fully-connected layer에서 GlobalAveragePooling2D 대신에 Flatten을 사용했다.\n",
        "* EarlyStopping의 patience을 30으로 늘려 학습 조기종료시간을 조금 더 늦췄다."
      ]
    },
    {
      "cell_type": "code",
      "metadata": {
        "id": "6ZUYqXpTVgH7",
        "colab_type": "code",
        "outputId": "29909a74-70ec-4f06-8fbe-6aa8a62314e6",
        "colab": {
          "base_uri": "https://localhost:8080/",
          "height": 1000
        }
      },
      "source": [
        "# 모델 설계\n",
        "\n",
        "def create_model():\n",
        "    n_kernels = 16\n",
        "    model = Sequential()\n",
        "\n",
        "    # N, 50, 50, 3\n",
        "    model.add(Conv2D(n_kernels*2, kernel_size=(3,3), activation='relu', kernel_initializer='he_normal', padding='valid', input_shape=(50,50,3)))\n",
        "    # N, 48, 48, 32\n",
        "    model.add(BatchNormalization())\n",
        "    # N, 48, 48, 32\n",
        "    model.add(MaxPooling2D(pool_size=(2,2)))\n",
        "    # N, 24, 24, 32\n",
        "    model.add(Conv2D(n_kernels*2, kernel_size=(3,3), activation='relu', kernel_initializer='he_normal', padding='valid'))\n",
        "    # N, 22, 22, 32\n",
        "    model.add(Conv2D(n_kernels*4, kernel_size=(3,3), activation='relu', kernel_initializer='he_normal', padding='valid'))\n",
        "    # N, 20, 20, 64\n",
        "    model.add(BatchNormalization())\n",
        "    # N, 20, 20, 64\n",
        "    model.add(MaxPooling2D(pool_size=(2,2)))\n",
        "    # N, 10, 10, 64\n",
        "    model.add(Conv2D(n_kernels*4, kernel_size=(3,3), activation='relu', kernel_initializer='he_normal', padding='valid'))\n",
        "    # N, 8, 8, 64\n",
        "    model.add(Conv2D(n_kernels*8, kernel_size=(3,3), activation='relu', kernel_initializer='he_normal', padding='valid'))\n",
        "    # N, 6, 6, 128\n",
        "    model.add(BatchNormalization())\n",
        "    # N, 6, 6, 128\n",
        "    model.add(MaxPooling2D(pool_size=(2,2)))\n",
        "    # N, 3, 3, 128\n",
        "    model.add(Conv2D(n_kernels*8, kernel_size=(3,3), activation='relu', kernel_initializer='he_normal', padding='valid'))\n",
        "    # N, 1, 1, 128\n",
        "    model.add(BatchNormalization())\n",
        "    # N, 1, 1, 128\n",
        "\n",
        "    model.add(Flatten())\n",
        "    # N, 128\n",
        "    model.add(Dense(128, activation='relu', kernel_initializer='he_normal'))\n",
        "    # N, 128\n",
        "    model.add(Dropout(0.3))\n",
        "    # N, 128\n",
        "    model.add(Dense(128, activation='relu', kernel_initializer='he_normal'))\n",
        "    # N, 128\n",
        "    model.add(Dropout(0.3))\n",
        "    # N, 128\n",
        "    model.add(Dense(3, activation='softmax', kernel_initializer='he_normal'))\n",
        "    # N, 3\n",
        "\n",
        "    # 모델 학습과정 설정\n",
        "    model.compile(loss = 'categorical_crossentropy', optimizer = 'adam', metrics = ['accuracy'])\n",
        "\n",
        "    return model\n",
        "\n",
        "# 학습 조기종료\n",
        "\n",
        "es = EarlyStopping(monitor='val_loss', mode='min', verbose=1, patience=30)\n",
        "\n",
        "# 최적 모델 선택 기법\n",
        "\n",
        "filepath = '/content/gdrive/My Drive/Galaxies-Classification-By-Using-Deep-Learing/best_model3-{epoch:02d}-{val_acc:.2f}.h5'\n",
        "mc = ModelCheckpoint(filepath, monitor='val_loss', mode='min', save_best_only=True)\n",
        "\n",
        "# 모델 생성\n",
        "\n",
        "model = create_model()\n",
        "model.summary()\n",
        "\n",
        "# 모델 학습시키기\n",
        "\n",
        "hist = model.fit_generator(\n",
        "    train_generator,\n",
        "    steps_per_epoch=640,\n",
        "    epochs=100,\n",
        "    validation_data=val_generator,\n",
        "    validation_steps=30,\n",
        "    callbacks=[es,mc]\n",
        ")"
      ],
      "execution_count": 0,
      "outputs": [
        {
          "output_type": "stream",
          "text": [
            "WARNING:tensorflow:From /usr/local/lib/python3.6/dist-packages/keras/backend/tensorflow_backend.py:66: The name tf.get_default_graph is deprecated. Please use tf.compat.v1.get_default_graph instead.\n",
            "\n",
            "WARNING:tensorflow:From /usr/local/lib/python3.6/dist-packages/keras/backend/tensorflow_backend.py:541: The name tf.placeholder is deprecated. Please use tf.compat.v1.placeholder instead.\n",
            "\n",
            "WARNING:tensorflow:From /usr/local/lib/python3.6/dist-packages/keras/backend/tensorflow_backend.py:4479: The name tf.truncated_normal is deprecated. Please use tf.random.truncated_normal instead.\n",
            "\n",
            "WARNING:tensorflow:From /usr/local/lib/python3.6/dist-packages/keras/backend/tensorflow_backend.py:190: The name tf.get_default_session is deprecated. Please use tf.compat.v1.get_default_session instead.\n",
            "\n",
            "WARNING:tensorflow:From /usr/local/lib/python3.6/dist-packages/keras/backend/tensorflow_backend.py:197: The name tf.ConfigProto is deprecated. Please use tf.compat.v1.ConfigProto instead.\n",
            "\n",
            "WARNING:tensorflow:From /usr/local/lib/python3.6/dist-packages/keras/backend/tensorflow_backend.py:203: The name tf.Session is deprecated. Please use tf.compat.v1.Session instead.\n",
            "\n",
            "WARNING:tensorflow:From /usr/local/lib/python3.6/dist-packages/keras/backend/tensorflow_backend.py:207: The name tf.global_variables is deprecated. Please use tf.compat.v1.global_variables instead.\n",
            "\n",
            "WARNING:tensorflow:From /usr/local/lib/python3.6/dist-packages/keras/backend/tensorflow_backend.py:216: The name tf.is_variable_initialized is deprecated. Please use tf.compat.v1.is_variable_initialized instead.\n",
            "\n",
            "WARNING:tensorflow:From /usr/local/lib/python3.6/dist-packages/keras/backend/tensorflow_backend.py:223: The name tf.variables_initializer is deprecated. Please use tf.compat.v1.variables_initializer instead.\n",
            "\n",
            "WARNING:tensorflow:From /usr/local/lib/python3.6/dist-packages/keras/backend/tensorflow_backend.py:2041: The name tf.nn.fused_batch_norm is deprecated. Please use tf.compat.v1.nn.fused_batch_norm instead.\n",
            "\n",
            "WARNING:tensorflow:From /usr/local/lib/python3.6/dist-packages/keras/backend/tensorflow_backend.py:148: The name tf.placeholder_with_default is deprecated. Please use tf.compat.v1.placeholder_with_default instead.\n",
            "\n",
            "WARNING:tensorflow:From /usr/local/lib/python3.6/dist-packages/keras/backend/tensorflow_backend.py:4267: The name tf.nn.max_pool is deprecated. Please use tf.nn.max_pool2d instead.\n",
            "\n",
            "WARNING:tensorflow:From /usr/local/lib/python3.6/dist-packages/keras/backend/tensorflow_backend.py:3733: calling dropout (from tensorflow.python.ops.nn_ops) with keep_prob is deprecated and will be removed in a future version.\n",
            "Instructions for updating:\n",
            "Please use `rate` instead of `keep_prob`. Rate should be set to `rate = 1 - keep_prob`.\n",
            "WARNING:tensorflow:From /usr/local/lib/python3.6/dist-packages/keras/optimizers.py:793: The name tf.train.Optimizer is deprecated. Please use tf.compat.v1.train.Optimizer instead.\n",
            "\n",
            "WARNING:tensorflow:From /usr/local/lib/python3.6/dist-packages/keras/backend/tensorflow_backend.py:3576: The name tf.log is deprecated. Please use tf.math.log instead.\n",
            "\n",
            "Model: \"sequential_1\"\n",
            "_________________________________________________________________\n",
            "Layer (type)                 Output Shape              Param #   \n",
            "=================================================================\n",
            "conv2d_1 (Conv2D)            (None, 48, 48, 32)        896       \n",
            "_________________________________________________________________\n",
            "batch_normalization_1 (Batch (None, 48, 48, 32)        128       \n",
            "_________________________________________________________________\n",
            "max_pooling2d_1 (MaxPooling2 (None, 24, 24, 32)        0         \n",
            "_________________________________________________________________\n",
            "conv2d_2 (Conv2D)            (None, 22, 22, 32)        9248      \n",
            "_________________________________________________________________\n",
            "conv2d_3 (Conv2D)            (None, 20, 20, 64)        18496     \n",
            "_________________________________________________________________\n",
            "batch_normalization_2 (Batch (None, 20, 20, 64)        256       \n",
            "_________________________________________________________________\n",
            "max_pooling2d_2 (MaxPooling2 (None, 10, 10, 64)        0         \n",
            "_________________________________________________________________\n",
            "conv2d_4 (Conv2D)            (None, 8, 8, 64)          36928     \n",
            "_________________________________________________________________\n",
            "conv2d_5 (Conv2D)            (None, 6, 6, 128)         73856     \n",
            "_________________________________________________________________\n",
            "batch_normalization_3 (Batch (None, 6, 6, 128)         512       \n",
            "_________________________________________________________________\n",
            "max_pooling2d_3 (MaxPooling2 (None, 3, 3, 128)         0         \n",
            "_________________________________________________________________\n",
            "conv2d_6 (Conv2D)            (None, 1, 1, 128)         147584    \n",
            "_________________________________________________________________\n",
            "batch_normalization_4 (Batch (None, 1, 1, 128)         512       \n",
            "_________________________________________________________________\n",
            "flatten_1 (Flatten)          (None, 128)               0         \n",
            "_________________________________________________________________\n",
            "dense_1 (Dense)              (None, 128)               16512     \n",
            "_________________________________________________________________\n",
            "dropout_1 (Dropout)          (None, 128)               0         \n",
            "_________________________________________________________________\n",
            "dense_2 (Dense)              (None, 128)               16512     \n",
            "_________________________________________________________________\n",
            "dropout_2 (Dropout)          (None, 128)               0         \n",
            "_________________________________________________________________\n",
            "dense_3 (Dense)              (None, 3)                 387       \n",
            "=================================================================\n",
            "Total params: 321,827\n",
            "Trainable params: 321,123\n",
            "Non-trainable params: 704\n",
            "_________________________________________________________________\n",
            "WARNING:tensorflow:From /usr/local/lib/python3.6/dist-packages/tensorflow_core/python/ops/math_grad.py:1424: where (from tensorflow.python.ops.array_ops) is deprecated and will be removed in a future version.\n",
            "Instructions for updating:\n",
            "Use tf.where in 2.0, which has the same broadcast rule as np.where\n",
            "WARNING:tensorflow:From /usr/local/lib/python3.6/dist-packages/keras/backend/tensorflow_backend.py:1033: The name tf.assign_add is deprecated. Please use tf.compat.v1.assign_add instead.\n",
            "\n",
            "WARNING:tensorflow:From /usr/local/lib/python3.6/dist-packages/keras/backend/tensorflow_backend.py:1020: The name tf.assign is deprecated. Please use tf.compat.v1.assign instead.\n",
            "\n",
            "Epoch 1/100\n",
            "640/640 [==============================] - 4640s 7s/step - loss: 0.7473 - acc: 0.7012 - val_loss: 0.8141 - val_acc: 0.6500\n",
            "Epoch 2/100\n",
            "640/640 [==============================] - 53s 82ms/step - loss: 0.5880 - acc: 0.7693 - val_loss: 0.5889 - val_acc: 0.7267\n",
            "Epoch 3/100\n",
            "640/640 [==============================] - 18s 27ms/step - loss: 0.5648 - acc: 0.7776 - val_loss: 0.5032 - val_acc: 0.8114\n",
            "Epoch 4/100\n",
            "640/640 [==============================] - 17s 26ms/step - loss: 0.5355 - acc: 0.7929 - val_loss: 0.5165 - val_acc: 0.7881\n",
            "Epoch 5/100\n",
            "640/640 [==============================] - 17s 26ms/step - loss: 0.5165 - acc: 0.7975 - val_loss: 0.8331 - val_acc: 0.6792\n",
            "Epoch 6/100\n",
            "640/640 [==============================] - 17s 26ms/step - loss: 0.4959 - acc: 0.8096 - val_loss: 0.5422 - val_acc: 0.7966\n",
            "Epoch 7/100\n",
            "640/640 [==============================] - 17s 26ms/step - loss: 0.4748 - acc: 0.8177 - val_loss: 0.4557 - val_acc: 0.8305\n",
            "Epoch 8/100\n",
            "640/640 [==============================] - 17s 26ms/step - loss: 0.4666 - acc: 0.8267 - val_loss: 0.4315 - val_acc: 0.8157\n",
            "Epoch 9/100\n",
            "640/640 [==============================] - 17s 26ms/step - loss: 0.4343 - acc: 0.8351 - val_loss: 0.4717 - val_acc: 0.8242\n",
            "Epoch 10/100\n",
            "640/640 [==============================] - 17s 26ms/step - loss: 0.4306 - acc: 0.8353 - val_loss: 0.4379 - val_acc: 0.8458\n",
            "Epoch 11/100\n",
            "640/640 [==============================] - 17s 26ms/step - loss: 0.4251 - acc: 0.8388 - val_loss: 0.4300 - val_acc: 0.8602\n",
            "Epoch 12/100\n",
            "640/640 [==============================] - 17s 26ms/step - loss: 0.3844 - acc: 0.8553 - val_loss: 0.4619 - val_acc: 0.8559\n",
            "Epoch 13/100\n",
            "640/640 [==============================] - 17s 26ms/step - loss: 0.3790 - acc: 0.8539 - val_loss: 0.4030 - val_acc: 0.8453\n",
            "Epoch 14/100\n",
            "640/640 [==============================] - 17s 26ms/step - loss: 0.3649 - acc: 0.8575 - val_loss: 0.4808 - val_acc: 0.8538\n",
            "Epoch 15/100\n",
            "640/640 [==============================] - 17s 27ms/step - loss: 0.3516 - acc: 0.8651 - val_loss: 0.5602 - val_acc: 0.7875\n",
            "Epoch 16/100\n",
            "640/640 [==============================] - 17s 26ms/step - loss: 0.3361 - acc: 0.8738 - val_loss: 0.5909 - val_acc: 0.8411\n",
            "Epoch 17/100\n",
            "640/640 [==============================] - 17s 26ms/step - loss: 0.3083 - acc: 0.8808 - val_loss: 0.4099 - val_acc: 0.8665\n",
            "Epoch 18/100\n",
            "640/640 [==============================] - 17s 26ms/step - loss: 0.2855 - acc: 0.8935 - val_loss: 0.4760 - val_acc: 0.8114\n",
            "Epoch 19/100\n",
            "640/640 [==============================] - 17s 26ms/step - loss: 0.2696 - acc: 0.8963 - val_loss: 0.5104 - val_acc: 0.8347\n",
            "Epoch 20/100\n",
            "640/640 [==============================] - 17s 26ms/step - loss: 0.2529 - acc: 0.9039 - val_loss: 0.4260 - val_acc: 0.8458\n",
            "Epoch 21/100\n",
            "640/640 [==============================] - 17s 26ms/step - loss: 0.2241 - acc: 0.9177 - val_loss: 0.4504 - val_acc: 0.8538\n",
            "Epoch 22/100\n",
            "640/640 [==============================] - 17s 27ms/step - loss: 0.1866 - acc: 0.9296 - val_loss: 0.5077 - val_acc: 0.8242\n",
            "Epoch 23/100\n",
            "640/640 [==============================] - 16s 25ms/step - loss: 0.1762 - acc: 0.9328 - val_loss: 0.4828 - val_acc: 0.8475\n",
            "Epoch 24/100\n",
            "640/640 [==============================] - 17s 26ms/step - loss: 0.1558 - acc: 0.9413 - val_loss: 0.5224 - val_acc: 0.8479\n",
            "Epoch 25/100\n",
            "640/640 [==============================] - 17s 26ms/step - loss: 0.1629 - acc: 0.9427 - val_loss: 0.6854 - val_acc: 0.8178\n",
            "Epoch 26/100\n",
            "640/640 [==============================] - 17s 26ms/step - loss: 0.1513 - acc: 0.9443 - val_loss: 0.6387 - val_acc: 0.8263\n",
            "Epoch 27/100\n",
            "640/640 [==============================] - 16s 26ms/step - loss: 0.1233 - acc: 0.9564 - val_loss: 0.6047 - val_acc: 0.8199\n",
            "Epoch 28/100\n",
            "640/640 [==============================] - 17s 26ms/step - loss: 0.1034 - acc: 0.9658 - val_loss: 0.7402 - val_acc: 0.8199\n",
            "Epoch 29/100\n",
            "640/640 [==============================] - 17s 26ms/step - loss: 0.0957 - acc: 0.9675 - val_loss: 0.8104 - val_acc: 0.8000\n",
            "Epoch 30/100\n",
            "640/640 [==============================] - 16s 26ms/step - loss: 0.0917 - acc: 0.9688 - val_loss: 0.7462 - val_acc: 0.8453\n",
            "Epoch 31/100\n",
            "640/640 [==============================] - 16s 26ms/step - loss: 0.0894 - acc: 0.9688 - val_loss: 0.8963 - val_acc: 0.7691\n",
            "Epoch 32/100\n",
            "640/640 [==============================] - 17s 26ms/step - loss: 0.0843 - acc: 0.9717 - val_loss: 0.6443 - val_acc: 0.8602\n",
            "Epoch 33/100\n",
            "640/640 [==============================] - 16s 26ms/step - loss: 0.0772 - acc: 0.9746 - val_loss: 0.8886 - val_acc: 0.7839\n",
            "Epoch 34/100\n",
            "640/640 [==============================] - 16s 25ms/step - loss: 0.1365 - acc: 0.9495 - val_loss: 0.8334 - val_acc: 0.8083\n",
            "Epoch 35/100\n",
            "640/640 [==============================] - 17s 26ms/step - loss: 0.0904 - acc: 0.9692 - val_loss: 0.7891 - val_acc: 0.8072\n",
            "Epoch 36/100\n",
            "640/640 [==============================] - 16s 25ms/step - loss: 0.0650 - acc: 0.9793 - val_loss: 0.6355 - val_acc: 0.8390\n",
            "Epoch 37/100\n",
            "640/640 [==============================] - 17s 26ms/step - loss: 0.0634 - acc: 0.9768 - val_loss: 0.7622 - val_acc: 0.8199\n",
            "Epoch 38/100\n",
            "640/640 [==============================] - 16s 25ms/step - loss: 0.0658 - acc: 0.9771 - val_loss: 0.7532 - val_acc: 0.8178\n",
            "Epoch 39/100\n",
            "640/640 [==============================] - 17s 26ms/step - loss: 0.0900 - acc: 0.9686 - val_loss: 0.7311 - val_acc: 0.8354\n",
            "Epoch 40/100\n",
            "640/640 [==============================] - 17s 26ms/step - loss: 0.0640 - acc: 0.9798 - val_loss: 0.9557 - val_acc: 0.8263\n",
            "Epoch 41/100\n",
            "640/640 [==============================] - 16s 26ms/step - loss: 0.0623 - acc: 0.9802 - val_loss: 0.6873 - val_acc: 0.8284\n",
            "Epoch 42/100\n",
            "640/640 [==============================] - 16s 26ms/step - loss: 0.0742 - acc: 0.9755 - val_loss: 0.7615 - val_acc: 0.8030\n",
            "Epoch 43/100\n",
            "640/640 [==============================] - 17s 26ms/step - loss: 0.0677 - acc: 0.9771 - val_loss: 0.7859 - val_acc: 0.8313\n",
            "Epoch 00043: early stopping\n"
          ],
          "name": "stdout"
        }
      ]
    },
    {
      "cell_type": "code",
      "metadata": {
        "id": "xA2CJDMTVgN7",
        "colab_type": "code",
        "outputId": "954d2c40-4f36-4ae6-9849-4ce83cd03323",
        "colab": {
          "base_uri": "https://localhost:8080/",
          "height": 283
        }
      },
      "source": [
        "# 모델 학습 과정 표시하기\n",
        "\n",
        "%matplotlib inline\n",
        "import matplotlib.pyplot as plt\n",
        "\n",
        "fig, loss_ax = plt.subplots()\n",
        "\n",
        "acc_ax = loss_ax.twinx()\n",
        "\n",
        "loss_ax.plot(hist.history['loss'], 'y', label='train loss')\n",
        "loss_ax.plot(hist.history['val_loss'], 'r', label='val loss')\n",
        "\n",
        "acc_ax.plot(hist.history['acc'], 'b', label='train acc')\n",
        "acc_ax.plot(hist.history['val_acc'], 'g', label='val acc')\n",
        "\n",
        "loss_ax.set_xlabel('epoch')\n",
        "loss_ax.set_ylabel('loss')\n",
        "acc_ax.set_ylabel('accuray')\n",
        "\n",
        "loss_ax.legend(loc='upper left')\n",
        "acc_ax.legend(loc='lower left')\n",
        "\n",
        "plt.show()"
      ],
      "execution_count": 0,
      "outputs": [
        {
          "output_type": "display_data",
          "data": {
            "image/png": "[encoded data removed]",
            "text/plain": [
              "<Figure size 432x288 with 2 Axes>"
            ]
          },
          "metadata": {
            "tags": []
          }
        }
      ]
    },
    {
      "cell_type": "markdown",
      "metadata": {
        "id": "1lEf4iplVgR-",
        "colab_type": "text"
      },
      "source": [
        "* best_model3-13-0.85.h5\n",
        "* Model 2와 비교하여 학습곡선이 더욱 불안정하고 val_loss와 val_acc 또한 더 좋지 않은 결과를 보이고 있다. 이로써 Flatten보다는 GlobalAveragePooling2D가 더 좋은 효과를 낸다는 것을 확인할 수 있었다.\n",
        "* fully-connected layer에서 문제가 없다면 결국 Convolution Layer를 손댈 수 밖에 없다. Image 분야에서 좋은 성능을 낸 모델들의 구성과 비슷하게 만들어보는 방법이 있고, 그냥 그 모델 그대로 가져와서 학습하는 방법이 있다. 모델링에 초점을 맞추어 Convolution Layer의 구성을 바꾸는 방법을 택하기로 한다."
      ]
    },
    {
      "cell_type": "markdown",
      "metadata": {
        "id": "D4ESGvLcVgXq",
        "colab_type": "text"
      },
      "source": [
        "# Model 4"
      ]
    },
    {
      "cell_type": "markdown",
      "metadata": {
        "id": "BNrfqd5cLaiW",
        "colab_type": "text"
      },
      "source": [
        "* 한때 Image데이터에 대단한 성능을 보였던 VGG16 모델을 개조한 모델이다.\n",
        "* VGG16은 input data의 shape이 (224,224)로 고정되어있으므로 ImageDataGenerator 인스턴스들의 target_size를 알맞게 조정해준다.\n",
        "* 모든 layer의 activation function을 'relu'로, kernel initializer를 'he_normal'로 설정했다.\n",
        "* Convolution - Convolution - MaxPooling을 한 블록이라고 한다면, 블록과 블록 사이에 BatchNormalization을 적용하여 모델의 성능을 높이고자 했다.\n",
        "* 기존 VGG16의 bottleneck을 완화하기 위해 Maxpooling2D를 하기 전에 filter의 수를 미리 2배로 늘려주었다.\n",
        "* 기존 VGG16의 fully-connected layer의 Flatten 대신 GlobalAveragePooling2D를 사용하고, 이에 따라 Dense layer의 units 또한 적절히 수정했다.\n",
        "* fully-connected layer의 Dense layer 사이에 Dropout을 적용하여 Dense layer들의 Overfitting을 방지하고자 했다."
      ]
    },
    {
      "cell_type": "code",
      "metadata": {
        "id": "6W5QGL4ZGJum",
        "colab_type": "code",
        "outputId": "c57763aa-31a1-4e86-c8f7-ef61ddbed612",
        "colab": {
          "base_uri": "https://localhost:8080/",
          "height": 73
        }
      },
      "source": [
        "# 랜덤시드 고정\n",
        "np.random.seed(3)\n",
        "\n",
        "# 데이터 생성\n",
        "# rescale: rescaling factor. Defaults to None.\n",
        "# If None or 0, no rescaling is applied, otherwise we multiply the data by the value provided (before applying any other transformation).\n",
        "train_datagen = ImageDataGenerator(rescale=1./255)\n",
        "\n",
        "train_generator = train_datagen.flow_from_directory(\n",
        "    '/content/gdrive/My Drive/Galaxies-Classification-By-Using-Deep-Learing/datasets/train_galaxy', # 파일 경로\n",
        "    target_size=(224,224), # 이미지의 크기\n",
        "    batch_size=16,# 배치 크기\n",
        "    class_mode='categorical'# 분류 방식\n",
        ")\n",
        "\n",
        "val_datagen = ImageDataGenerator(rescale=1./255)\n",
        "\n",
        "val_generator = val_datagen.flow_from_directory(\n",
        "    '/content/gdrive/My Drive/Galaxies-Classification-By-Using-Deep-Learing/datasets/val_galaxy', # 파일 경로\n",
        "    target_size=(224,224), # 이미지의 크기\n",
        "    batch_size=16,# 배치 크기\n",
        "    class_mode='categorical'# 분류 방식\n",
        ")\n",
        "\n",
        "test_datagen = ImageDataGenerator(rescale=1./255)\n",
        "\n",
        "test_generator = test_datagen.flow_from_directory(\n",
        "    '/content/gdrive/My Drive/Galaxies-Classification-By-Using-Deep-Learing/datasets/test_galaxy', # 파일 경로\n",
        "    target_size=(224,224), # 이미지의 크기\n",
        "    batch_size=16,# 배치 크기\n",
        "    class_mode='categorical'# 분류 방식\n",
        ")"
      ],
      "execution_count": 0,
      "outputs": [
        {
          "output_type": "stream",
          "text": [
            "Found 10249 images belonging to 3 classes.\n",
            "Found 600 images belonging to 3 classes.\n",
            "Found 600 images belonging to 3 classes.\n"
          ],
          "name": "stdout"
        }
      ]
    },
    {
      "cell_type": "code",
      "metadata": {
        "id": "SQWquwMoVga7",
        "colab_type": "code",
        "outputId": "fa336579-f195-44b3-8b4f-3842f38cdfdc",
        "colab": {
          "base_uri": "https://localhost:8080/",
          "height": 1000
        }
      },
      "source": [
        "# 모델 설계\n",
        "\n",
        "def create_model():\n",
        "    n_kernels = 16\n",
        "    model = Sequential()\n",
        "\n",
        "    # N, 224, 224, 3\n",
        "    model.add(Conv2D(64, kernel_size=(3,3), activation='relu', kernel_initializer='he_normal', padding='same', input_shape=(224,224,3)))\n",
        "    # N, 224, 224, 64\n",
        "    model.add(Conv2D(128, kernel_size=(3,3), activation='relu', kernel_initializer='he_normal', padding='same'))\n",
        "    # N, 224, 224, 128\n",
        "    model.add(BatchNormalization())\n",
        "    # N, 224, 224, 128\n",
        "    model.add(MaxPooling2D(pool_size=(2,2)))\n",
        "    # N, 112, 112, 128\n",
        "\n",
        "    model.add(Conv2D(128, kernel_size=(3,3), activation='relu', kernel_initializer='he_normal', padding='same'))\n",
        "    # N, 112, 112, 128\n",
        "    model.add(Conv2D(256, kernel_size=(3,3), activation='relu', kernel_initializer='he_normal', padding='same'))\n",
        "    # N, 112, 112, 256\n",
        "    model.add(BatchNormalization())\n",
        "    # N, 112, 112, 256\n",
        "    model.add(MaxPooling2D(pool_size=(2,2)))\n",
        "    # N, 56, 56, 256\n",
        "\n",
        "    model.add(Conv2D(256, kernel_size=(3,3), activation='relu', kernel_initializer='he_normal', padding='same'))\n",
        "    # N, 56, 56, 256\n",
        "    model.add(Conv2D(256, kernel_size=(3,3), activation='relu', kernel_initializer='he_normal', padding='same'))\n",
        "    # N, 56, 56, 256\n",
        "    model.add(Conv2D(512, kernel_size=(3,3), activation='relu', kernel_initializer='he_normal', padding='same'))\n",
        "    # N, 56, 56, 512\n",
        "    model.add(BatchNormalization())\n",
        "    # N, 56, 56, 512\n",
        "    model.add(MaxPooling2D(pool_size=(2,2)))\n",
        "    # N, 28, 28, 512\n",
        "\n",
        "    model.add(Conv2D(512, kernel_size=(3,3), activation='relu', kernel_initializer='he_normal', padding='same'))\n",
        "    # N, 28, 28, 512\n",
        "    model.add(Conv2D(512, kernel_size=(3,3), activation='relu', kernel_initializer='he_normal', padding='same'))\n",
        "    # N, 28, 28, 512\n",
        "    model.add(Conv2D(512, kernel_size=(3,3), activation='relu', kernel_initializer='he_normal', padding='same'))\n",
        "    # N, 28, 28, 512\n",
        "    model.add(BatchNormalization())\n",
        "    # N, 28, 28, 512\n",
        "    model.add(MaxPooling2D(pool_size=(2,2)))\n",
        "    # N, 14, 14, 512\n",
        "\n",
        "    model.add(Conv2D(512, kernel_size=(3,3), activation='relu', kernel_initializer='he_normal', padding='same'))\n",
        "    # N, 14, 14, 512\n",
        "    model.add(Conv2D(512, kernel_size=(3,3), activation='relu', kernel_initializer='he_normal', padding='same'))\n",
        "    # N, 14, 14, 512\n",
        "    model.add(Conv2D(512, kernel_size=(3,3), activation='relu', kernel_initializer='he_normal', padding='same'))\n",
        "    # N, 14, 14, 512\n",
        "    model.add(BatchNormalization())\n",
        "    # N, 14, 14, 512\n",
        "    model.add(MaxPooling2D(pool_size=(2,2)))\n",
        "    # N, 7, 7, 512\n",
        "\n",
        "    model.add(GlobalAveragePooling2D())\n",
        "    # N, 512\n",
        "    model.add(Dense(512, activation='relu', kernel_initializer='he_normal'))\n",
        "    # N, 512\n",
        "    model.add(Dropout(0.3))\n",
        "    # N, 512\n",
        "    model.add(Dense(512, activation='relu', kernel_initializer='he_normal'))\n",
        "    # N, 512\n",
        "    model.add(Dropout(0.3))\n",
        "    # N, 512\n",
        "    model.add(Dense(3, activation='softmax', kernel_initializer='he_normal'))\n",
        "    # N, 3\n",
        "\n",
        "\n",
        "    # 모델 학습과정 설정\n",
        "    model.compile(loss = 'categorical_crossentropy', optimizer = 'adam', metrics = ['accuracy'])\n",
        "\n",
        "    return model\n",
        "\n",
        "# 학습 조기종료\n",
        "\n",
        "es = EarlyStopping(monitor='val_loss', mode='min', verbose=1, patience=30)\n",
        "\n",
        "# 최적 모델 선택 기법\n",
        "\n",
        "filepath = '/content/gdrive/My Drive/Galaxies-Classification-By-Using-Deep-Learing/best_model4-{epoch:02d}-{val_acc:.2f}.h5'\n",
        "mc = ModelCheckpoint(filepath, monitor='val_loss', mode='min', save_best_only=True)\n",
        "\n",
        "# 모델 생성\n",
        "\n",
        "model = create_model()\n",
        "model.summary()\n",
        "\n",
        "# 모델 학습시키기\n",
        "\n",
        "hist = model.fit_generator(\n",
        "    train_generator,\n",
        "    steps_per_epoch=640,\n",
        "    epochs=100,\n",
        "    validation_data=val_generator,\n",
        "    validation_steps=30,\n",
        "    callbacks=[es,mc]\n",
        ")"
      ],
      "execution_count": 0,
      "outputs": [
        {
          "output_type": "stream",
          "text": [
            "WARNING:tensorflow:From /usr/local/lib/python3.6/dist-packages/keras/backend/tensorflow_backend.py:66: The name tf.get_default_graph is deprecated. Please use tf.compat.v1.get_default_graph instead.\n",
            "\n",
            "WARNING:tensorflow:From /usr/local/lib/python3.6/dist-packages/keras/backend/tensorflow_backend.py:541: The name tf.placeholder is deprecated. Please use tf.compat.v1.placeholder instead.\n",
            "\n",
            "WARNING:tensorflow:From /usr/local/lib/python3.6/dist-packages/keras/backend/tensorflow_backend.py:4479: The name tf.truncated_normal is deprecated. Please use tf.random.truncated_normal instead.\n",
            "\n",
            "WARNING:tensorflow:From /usr/local/lib/python3.6/dist-packages/keras/backend/tensorflow_backend.py:190: The name tf.get_default_session is deprecated. Please use tf.compat.v1.get_default_session instead.\n",
            "\n",
            "WARNING:tensorflow:From /usr/local/lib/python3.6/dist-packages/keras/backend/tensorflow_backend.py:197: The name tf.ConfigProto is deprecated. Please use tf.compat.v1.ConfigProto instead.\n",
            "\n",
            "WARNING:tensorflow:From /usr/local/lib/python3.6/dist-packages/keras/backend/tensorflow_backend.py:203: The name tf.Session is deprecated. Please use tf.compat.v1.Session instead.\n",
            "\n",
            "WARNING:tensorflow:From /usr/local/lib/python3.6/dist-packages/keras/backend/tensorflow_backend.py:207: The name tf.global_variables is deprecated. Please use tf.compat.v1.global_variables instead.\n",
            "\n",
            "WARNING:tensorflow:From /usr/local/lib/python3.6/dist-packages/keras/backend/tensorflow_backend.py:216: The name tf.is_variable_initialized is deprecated. Please use tf.compat.v1.is_variable_initialized instead.\n",
            "\n",
            "WARNING:tensorflow:From /usr/local/lib/python3.6/dist-packages/keras/backend/tensorflow_backend.py:223: The name tf.variables_initializer is deprecated. Please use tf.compat.v1.variables_initializer instead.\n",
            "\n",
            "WARNING:tensorflow:From /usr/local/lib/python3.6/dist-packages/keras/backend/tensorflow_backend.py:2041: The name tf.nn.fused_batch_norm is deprecated. Please use tf.compat.v1.nn.fused_batch_norm instead.\n",
            "\n",
            "WARNING:tensorflow:From /usr/local/lib/python3.6/dist-packages/keras/backend/tensorflow_backend.py:148: The name tf.placeholder_with_default is deprecated. Please use tf.compat.v1.placeholder_with_default instead.\n",
            "\n",
            "WARNING:tensorflow:From /usr/local/lib/python3.6/dist-packages/keras/backend/tensorflow_backend.py:4267: The name tf.nn.max_pool is deprecated. Please use tf.nn.max_pool2d instead.\n",
            "\n",
            "WARNING:tensorflow:From /usr/local/lib/python3.6/dist-packages/keras/backend/tensorflow_backend.py:3733: calling dropout (from tensorflow.python.ops.nn_ops) with keep_prob is deprecated and will be removed in a future version.\n",
            "Instructions for updating:\n",
            "Please use `rate` instead of `keep_prob`. Rate should be set to `rate = 1 - keep_prob`.\n",
            "WARNING:tensorflow:From /usr/local/lib/python3.6/dist-packages/keras/optimizers.py:793: The name tf.train.Optimizer is deprecated. Please use tf.compat.v1.train.Optimizer instead.\n",
            "\n",
            "WARNING:tensorflow:From /usr/local/lib/python3.6/dist-packages/keras/backend/tensorflow_backend.py:3576: The name tf.log is deprecated. Please use tf.math.log instead.\n",
            "\n",
            "Model: \"sequential_1\"\n",
            "_________________________________________________________________\n",
            "Layer (type)                 Output Shape              Param #   \n",
            "=================================================================\n",
            "conv2d_1 (Conv2D)            (None, 224, 224, 64)      1792      \n",
            "_________________________________________________________________\n",
            "conv2d_2 (Conv2D)            (None, 224, 224, 128)     73856     \n",
            "_________________________________________________________________\n",
            "batch_normalization_1 (Batch (None, 224, 224, 128)     512       \n",
            "_________________________________________________________________\n",
            "max_pooling2d_1 (MaxPooling2 (None, 112, 112, 128)     0         \n",
            "_________________________________________________________________\n",
            "conv2d_3 (Conv2D)            (None, 112, 112, 128)     147584    \n",
            "_________________________________________________________________\n",
            "conv2d_4 (Conv2D)            (None, 112, 112, 256)     295168    \n",
            "_________________________________________________________________\n",
            "batch_normalization_2 (Batch (None, 112, 112, 256)     1024      \n",
            "_________________________________________________________________\n",
            "max_pooling2d_2 (MaxPooling2 (None, 56, 56, 256)       0         \n",
            "_________________________________________________________________\n",
            "conv2d_5 (Conv2D)            (None, 56, 56, 256)       590080    \n",
            "_________________________________________________________________\n",
            "conv2d_6 (Conv2D)            (None, 56, 56, 256)       590080    \n",
            "_________________________________________________________________\n",
            "conv2d_7 (Conv2D)            (None, 56, 56, 512)       1180160   \n",
            "_________________________________________________________________\n",
            "batch_normalization_3 (Batch (None, 56, 56, 512)       2048      \n",
            "_________________________________________________________________\n",
            "max_pooling2d_3 (MaxPooling2 (None, 28, 28, 512)       0         \n",
            "_________________________________________________________________\n",
            "conv2d_8 (Conv2D)            (None, 28, 28, 512)       2359808   \n",
            "_________________________________________________________________\n",
            "conv2d_9 (Conv2D)            (None, 28, 28, 512)       2359808   \n",
            "_________________________________________________________________\n",
            "conv2d_10 (Conv2D)           (None, 28, 28, 512)       2359808   \n",
            "_________________________________________________________________\n",
            "batch_normalization_4 (Batch (None, 28, 28, 512)       2048      \n",
            "_________________________________________________________________\n",
            "max_pooling2d_4 (MaxPooling2 (None, 14, 14, 512)       0         \n",
            "_________________________________________________________________\n",
            "conv2d_11 (Conv2D)           (None, 14, 14, 512)       2359808   \n",
            "_________________________________________________________________\n",
            "conv2d_12 (Conv2D)           (None, 14, 14, 512)       2359808   \n",
            "_________________________________________________________________\n",
            "conv2d_13 (Conv2D)           (None, 14, 14, 512)       2359808   \n",
            "_________________________________________________________________\n",
            "batch_normalization_5 (Batch (None, 14, 14, 512)       2048      \n",
            "_________________________________________________________________\n",
            "max_pooling2d_5 (MaxPooling2 (None, 7, 7, 512)         0         \n",
            "_________________________________________________________________\n",
            "global_average_pooling2d_1 ( (None, 512)               0         \n",
            "_________________________________________________________________\n",
            "dense_1 (Dense)              (None, 512)               262656    \n",
            "_________________________________________________________________\n",
            "dropout_1 (Dropout)          (None, 512)               0         \n",
            "_________________________________________________________________\n",
            "dense_2 (Dense)              (None, 512)               262656    \n",
            "_________________________________________________________________\n",
            "dropout_2 (Dropout)          (None, 512)               0         \n",
            "_________________________________________________________________\n",
            "dense_3 (Dense)              (None, 3)                 1539      \n",
            "=================================================================\n",
            "Total params: 17,572,099\n",
            "Trainable params: 17,568,259\n",
            "Non-trainable params: 3,840\n",
            "_________________________________________________________________\n",
            "WARNING:tensorflow:From /usr/local/lib/python3.6/dist-packages/tensorflow_core/python/ops/math_grad.py:1424: where (from tensorflow.python.ops.array_ops) is deprecated and will be removed in a future version.\n",
            "Instructions for updating:\n",
            "Use tf.where in 2.0, which has the same broadcast rule as np.where\n",
            "WARNING:tensorflow:From /usr/local/lib/python3.6/dist-packages/keras/backend/tensorflow_backend.py:1033: The name tf.assign_add is deprecated. Please use tf.compat.v1.assign_add instead.\n",
            "\n",
            "WARNING:tensorflow:From /usr/local/lib/python3.6/dist-packages/keras/backend/tensorflow_backend.py:1020: The name tf.assign is deprecated. Please use tf.compat.v1.assign instead.\n",
            "\n",
            "Epoch 1/100\n",
            "640/640 [==============================] - 4246s 7s/step - loss: 0.8963 - acc: 0.6133 - val_loss: 1.0152 - val_acc: 0.6354\n",
            "Epoch 2/100\n",
            "640/640 [==============================] - 128s 200ms/step - loss: 0.6813 - acc: 0.7208 - val_loss: 0.8908 - val_acc: 0.7669\n",
            "Epoch 3/100\n",
            "640/640 [==============================] - 127s 199ms/step - loss: 0.6178 - acc: 0.7475 - val_loss: 0.5896 - val_acc: 0.7754\n",
            "Epoch 4/100\n",
            "640/640 [==============================] - 127s 199ms/step - loss: 0.5909 - acc: 0.7629 - val_loss: 0.5953 - val_acc: 0.7839\n",
            "Epoch 5/100\n",
            "640/640 [==============================] - 127s 199ms/step - loss: 0.5764 - acc: 0.7703 - val_loss: 0.7226 - val_acc: 0.6771\n",
            "Epoch 6/100\n",
            "640/640 [==============================] - 127s 199ms/step - loss: 0.5595 - acc: 0.7756 - val_loss: 0.5417 - val_acc: 0.7860\n",
            "Epoch 7/100\n",
            "640/640 [==============================] - 127s 199ms/step - loss: 0.5813 - acc: 0.7713 - val_loss: 0.5374 - val_acc: 0.7818\n",
            "Epoch 8/100\n",
            "640/640 [==============================] - 127s 199ms/step - loss: 0.5475 - acc: 0.7831 - val_loss: 0.4403 - val_acc: 0.8432\n",
            "Epoch 9/100\n",
            "640/640 [==============================] - 128s 199ms/step - loss: 0.5160 - acc: 0.7955 - val_loss: 0.6451 - val_acc: 0.7246\n",
            "Epoch 10/100\n",
            "640/640 [==============================] - 127s 199ms/step - loss: 0.5067 - acc: 0.7983 - val_loss: 0.7471 - val_acc: 0.6937\n",
            "Epoch 11/100\n",
            "640/640 [==============================] - 127s 199ms/step - loss: 0.4813 - acc: 0.8188 - val_loss: 0.6966 - val_acc: 0.7394\n",
            "Epoch 12/100\n",
            "640/640 [==============================] - 127s 199ms/step - loss: 0.4629 - acc: 0.8226 - val_loss: 0.7055 - val_acc: 0.8136\n",
            "Epoch 13/100\n",
            "640/640 [==============================] - 127s 199ms/step - loss: 0.4533 - acc: 0.8330 - val_loss: 0.3837 - val_acc: 0.8835\n",
            "Epoch 14/100\n",
            "640/640 [==============================] - 127s 199ms/step - loss: 0.4336 - acc: 0.8366 - val_loss: 0.5058 - val_acc: 0.7903\n",
            "Epoch 15/100\n",
            "640/640 [==============================] - 127s 199ms/step - loss: 0.4277 - acc: 0.8394 - val_loss: 0.8190 - val_acc: 0.6479\n",
            "Epoch 16/100\n",
            "640/640 [==============================] - 127s 199ms/step - loss: 0.4191 - acc: 0.8420 - val_loss: 0.9774 - val_acc: 0.7436\n",
            "Epoch 17/100\n",
            "640/640 [==============================] - 127s 199ms/step - loss: 0.4113 - acc: 0.8459 - val_loss: 0.5232 - val_acc: 0.7818\n",
            "Epoch 18/100\n",
            "640/640 [==============================] - 127s 199ms/step - loss: 0.3879 - acc: 0.8507 - val_loss: 0.3643 - val_acc: 0.8708\n",
            "Epoch 19/100\n",
            "640/640 [==============================] - 127s 199ms/step - loss: 0.3943 - acc: 0.8495 - val_loss: 0.3744 - val_acc: 0.8877\n",
            "Epoch 20/100\n",
            "640/640 [==============================] - 127s 199ms/step - loss: 0.3716 - acc: 0.8563 - val_loss: 0.5043 - val_acc: 0.7979\n",
            "Epoch 21/100\n",
            "640/640 [==============================] - 128s 199ms/step - loss: 0.3738 - acc: 0.8614 - val_loss: 0.3678 - val_acc: 0.8792\n",
            "Epoch 22/100\n",
            "640/640 [==============================] - 127s 199ms/step - loss: 0.3524 - acc: 0.8651 - val_loss: 0.3555 - val_acc: 0.8771\n",
            "Epoch 23/100\n",
            "640/640 [==============================] - 127s 199ms/step - loss: 0.3470 - acc: 0.8669 - val_loss: 0.4862 - val_acc: 0.8305\n",
            "Epoch 24/100\n",
            "640/640 [==============================] - 127s 199ms/step - loss: 0.3472 - acc: 0.8709 - val_loss: 0.4919 - val_acc: 0.8396\n",
            "Epoch 25/100\n",
            "640/640 [==============================] - 127s 199ms/step - loss: 0.3406 - acc: 0.8673 - val_loss: 0.3353 - val_acc: 0.9089\n",
            "Epoch 26/100\n",
            "640/640 [==============================] - 127s 199ms/step - loss: 0.3246 - acc: 0.8761 - val_loss: 0.4184 - val_acc: 0.8665\n",
            "Epoch 27/100\n",
            "640/640 [==============================] - 127s 199ms/step - loss: 0.3077 - acc: 0.8798 - val_loss: 0.4311 - val_acc: 0.8475\n",
            "Epoch 28/100\n",
            "640/640 [==============================] - 127s 199ms/step - loss: 0.3035 - acc: 0.8835 - val_loss: 0.3722 - val_acc: 0.8665\n",
            "Epoch 29/100\n",
            "640/640 [==============================] - 127s 199ms/step - loss: 0.2878 - acc: 0.8893 - val_loss: 0.3663 - val_acc: 0.8958\n",
            "Epoch 30/100\n",
            "640/640 [==============================] - 127s 199ms/step - loss: 0.2699 - acc: 0.8969 - val_loss: 0.4035 - val_acc: 0.8623\n",
            "Epoch 31/100\n",
            "640/640 [==============================] - 127s 199ms/step - loss: 0.2550 - acc: 0.9021 - val_loss: 0.3542 - val_acc: 0.8771\n",
            "Epoch 32/100\n",
            "640/640 [==============================] - 127s 199ms/step - loss: 0.2457 - acc: 0.9053 - val_loss: 0.4159 - val_acc: 0.8771\n",
            "Epoch 33/100\n",
            "640/640 [==============================] - 127s 199ms/step - loss: 0.2249 - acc: 0.9144 - val_loss: 0.4920 - val_acc: 0.8496\n",
            "Epoch 34/100\n",
            "640/640 [==============================] - 127s 199ms/step - loss: 0.2148 - acc: 0.9167 - val_loss: 0.5022 - val_acc: 0.8604\n",
            "Epoch 35/100\n",
            "640/640 [==============================] - 127s 199ms/step - loss: 0.2061 - acc: 0.9209 - val_loss: 0.5649 - val_acc: 0.8538\n",
            "Epoch 36/100\n",
            "640/640 [==============================] - 127s 199ms/step - loss: 0.1858 - acc: 0.9292 - val_loss: 0.9884 - val_acc: 0.7500\n",
            "Epoch 37/100\n",
            "640/640 [==============================] - 127s 199ms/step - loss: 0.1704 - acc: 0.9352 - val_loss: 0.8928 - val_acc: 0.7987\n",
            "Epoch 38/100\n",
            "640/640 [==============================] - 127s 199ms/step - loss: 0.1590 - acc: 0.9392 - val_loss: 0.5232 - val_acc: 0.8538\n",
            "Epoch 39/100\n",
            "640/640 [==============================] - 127s 199ms/step - loss: 0.1452 - acc: 0.9474 - val_loss: 0.6205 - val_acc: 0.8750\n",
            "Epoch 40/100\n",
            "640/640 [==============================] - 127s 199ms/step - loss: 0.1249 - acc: 0.9539 - val_loss: 0.6906 - val_acc: 0.8729\n",
            "Epoch 41/100\n",
            "640/640 [==============================] - 127s 199ms/step - loss: 0.2726 - acc: 0.8973 - val_loss: 0.7237 - val_acc: 0.8242\n",
            "Epoch 42/100\n",
            "640/640 [==============================] - 127s 199ms/step - loss: 0.1382 - acc: 0.9471 - val_loss: 0.6527 - val_acc: 0.8898\n",
            "Epoch 43/100\n",
            "640/640 [==============================] - 127s 199ms/step - loss: 0.1020 - acc: 0.9614 - val_loss: 0.7751 - val_acc: 0.8729\n",
            "Epoch 44/100\n",
            "640/640 [==============================] - 127s 199ms/step - loss: 0.0780 - acc: 0.9729 - val_loss: 0.7546 - val_acc: 0.8665\n",
            "Epoch 45/100\n",
            "640/640 [==============================] - 127s 199ms/step - loss: 0.0754 - acc: 0.9734 - val_loss: 0.8511 - val_acc: 0.8347\n",
            "Epoch 46/100\n",
            "640/640 [==============================] - 127s 199ms/step - loss: 0.0769 - acc: 0.9718 - val_loss: 0.5377 - val_acc: 0.9047\n",
            "Epoch 47/100\n",
            "640/640 [==============================] - 127s 199ms/step - loss: 0.0681 - acc: 0.9786 - val_loss: 0.6884 - val_acc: 0.8517\n",
            "Epoch 48/100\n",
            "640/640 [==============================] - 127s 199ms/step - loss: 0.0701 - acc: 0.9731 - val_loss: 0.7873 - val_acc: 0.8604\n",
            "Epoch 49/100\n",
            "640/640 [==============================] - 127s 199ms/step - loss: 0.0623 - acc: 0.9788 - val_loss: 0.6598 - val_acc: 0.8729\n",
            "Epoch 50/100\n",
            "640/640 [==============================] - 127s 199ms/step - loss: 0.0599 - acc: 0.9781 - val_loss: 0.8332 - val_acc: 0.8475\n",
            "Epoch 51/100\n",
            "640/640 [==============================] - 127s 199ms/step - loss: 0.0636 - acc: 0.9780 - val_loss: 1.0194 - val_acc: 0.8157\n",
            "Epoch 52/100\n",
            "640/640 [==============================] - 127s 199ms/step - loss: 0.0572 - acc: 0.9796 - val_loss: 0.7404 - val_acc: 0.8453\n",
            "Epoch 53/100\n",
            "640/640 [==============================] - 127s 199ms/step - loss: 0.0493 - acc: 0.9832 - val_loss: 0.7868 - val_acc: 0.8792\n",
            "Epoch 54/100\n",
            "640/640 [==============================] - 127s 199ms/step - loss: 0.0645 - acc: 0.9779 - val_loss: 0.7022 - val_acc: 0.8602\n",
            "Epoch 55/100\n",
            "640/640 [==============================] - 127s 199ms/step - loss: 0.0440 - acc: 0.9840 - val_loss: 0.9744 - val_acc: 0.8792\n",
            "Epoch 00055: early stopping\n"
          ],
          "name": "stdout"
        }
      ]
    },
    {
      "cell_type": "code",
      "metadata": {
        "id": "OiN_jtgqVge_",
        "colab_type": "code",
        "outputId": "5869e479-8c1a-4ba1-b7bb-c04142d1a67d",
        "colab": {
          "base_uri": "https://localhost:8080/",
          "height": 282
        }
      },
      "source": [
        "# 모델 학습 과정 표시하기\n",
        "\n",
        "%matplotlib inline\n",
        "import matplotlib.pyplot as plt\n",
        "\n",
        "fig, loss_ax = plt.subplots()\n",
        "\n",
        "acc_ax = loss_ax.twinx()\n",
        "\n",
        "loss_ax.plot(hist.history['loss'], 'y', label='train loss')\n",
        "loss_ax.plot(hist.history['val_loss'], 'r', label='val loss')\n",
        "\n",
        "acc_ax.plot(hist.history['acc'], 'b', label='train acc')\n",
        "acc_ax.plot(hist.history['val_acc'], 'g', label='val acc')\n",
        "\n",
        "loss_ax.set_xlabel('epoch')\n",
        "loss_ax.set_ylabel('loss')\n",
        "acc_ax.set_ylabel('accuray')\n",
        "\n",
        "loss_ax.legend(loc='upper left')\n",
        "acc_ax.legend(loc='lower left')\n",
        "\n",
        "plt.show()"
      ],
      "execution_count": 0,
      "outputs": [
        {
          "output_type": "display_data",
          "data": {
            "image/png": "[encoded data removed]",
            "text/plain": [
              "<Figure size 432x288 with 2 Axes>"
            ]
          },
          "metadata": {
            "tags": []
          }
        }
      ]
    },
    {
      "cell_type": "code",
      "metadata": {
        "id": "tS95gTKr-8Gd",
        "colab_type": "code",
        "colab": {}
      },
      "source": [
        "# 모델 평가\n",
        "# 학습한 모델을 평가해봅니다. 제네레이터에서 제공되는 샘플로 평가할 때는 evaluate_generator 함수를 사용합니다.\n",
        "\n",
        "best_model = keras.models.load_model('')\n",
        "\n",
        "print('--Evaluate--')\n",
        "scores = best_model.evaluate_generator(test_generator, steps=30)\n",
        "print(\"%s: %.2f%%\" %(best_model.metrics_names[1], scores[1]*100))"
      ],
      "execution_count": 0,
      "outputs": []
    },
    {
      "cell_type": "code",
      "metadata": {
        "id": "F5ztxprw_tMy",
        "colab_type": "code",
        "colab": {}
      },
      "source": [
        "# 모델 사용하기\n",
        "# 모델 사용 시에 제네레이터에서 제공되는 샘플을 입력할 때는 predict_generator 함수를 사용합니다.\n",
        "# 예측 결과는 클래스별 확률 벡터로 출력되며, 클래스에 해당하는 열을 알기 위해서는 제네레이터의 ‘class_indices’를 출력하면 해당 열의 클래스명을 알려줍니다.\n",
        "\n",
        "print(\"-- Predict --\")\n",
        "output = best_model.predict_generator(test_generator, steps=30)\n",
        "np.set_printoptions(formatter={'float': lambda x: \"{0:0.3f}\".format(x)})\n",
        "print(test_generator.class_indices)\n",
        "print(output)"
      ],
      "execution_count": 0,
      "outputs": []
    },
    {
      "cell_type": "markdown",
      "metadata": {
        "id": "NcRyWIwc6-1o",
        "colab_type": "text"
      },
      "source": [
        "### 학습 조기종료 시키기\n",
        "* https://tykimos.github.io/2017/07/09/Early_Stopping/\n",
        "* https://3months.tistory.com/424"
      ]
    },
    {
      "cell_type": "markdown",
      "metadata": {
        "id": "OmDg6upfdaAs",
        "colab_type": "text"
      },
      "source": [
        "### Keras Tuner\n",
        "* https://tykimos.github.io/2019/05/10/KerasTuner/\n",
        "* https://tykimos.github.io/2019/07/04/ISS_2nd_Deep_Learning_Conference_All_Together_tykim/\n",
        "* https://bjy2.tistory.com/70\n",
        "* https://www.youtube.com/watch?v=TECqi9OCbPw"
      ]
    }
  ]
}