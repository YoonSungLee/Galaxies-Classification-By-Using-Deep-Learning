{
  "nbformat": 4,
  "nbformat_minor": 0,
  "metadata": {
    "colab": {
      "name": "Pratice_VGG16.ipynb",
      "provenance": [],
      "collapsed_sections": [],
      "authorship_tag": "ABX9TyOIWsq1eIQYoQQz07CDml/B",
      "include_colab_link": true
    },
    "kernelspec": {
      "name": "python3",
      "display_name": "Python 3"
    },
    "accelerator": "GPU"
  },
  "cells": [
    {
      "cell_type": "markdown",
      "metadata": {
        "id": "view-in-github",
        "colab_type": "text"
      },
      "source": [
        "<a href=\"https://colab.research.google.com/github/YoonSungLee/Galaxies-Classification-By-Using-Deep-Learning/blob/master/Pratice_VGG16.ipynb\" target=\"_parent\"><img src=\"https://colab.research.google.com/assets/colab-badge.svg\" alt=\"Open In Colab\"/></a>"
      ]
    },
    {
      "cell_type": "code",
      "metadata": {
        "id": "PkokoGus6DwJ",
        "colab_type": "code",
        "colab": {
          "base_uri": "https://localhost:8080/",
          "height": 125
        },
        "outputId": "731e43dc-355c-4f16-fef7-22fea8f00534"
      },
      "source": [
        "# 구글 드라이브 mount\n",
        "\n",
        "from google.colab import drive\n",
        "drive.mount('/content/gdrive')"
      ],
      "execution_count": 1,
      "outputs": [
        {
          "output_type": "stream",
          "text": [
            "Go to this URL in a browser: https://accounts.google.com/o/oauth2/auth?client_id=947318989803-6bn6qk8qdgf4n4g3pfee6491hc0brc4i.apps.googleusercontent.com&redirect_uri=urn%3aietf%3awg%3aoauth%3a2.0%3aoob&response_type=code&scope=email%20https%3a%2f%2fwww.googleapis.com%2fauth%2fdocs.test%20https%3a%2f%2fwww.googleapis.com%2fauth%2fdrive%20https%3a%2f%2fwww.googleapis.com%2fauth%2fdrive.photos.readonly%20https%3a%2f%2fwww.googleapis.com%2fauth%2fpeopleapi.readonly\n",
            "\n",
            "Enter your authorization code:\n",
            "··········\n",
            "Mounted at /content/gdrive\n"
          ],
          "name": "stdout"
        }
      ]
    },
    {
      "cell_type": "code",
      "metadata": {
        "id": "-UF3_KQEGewm",
        "colab_type": "code",
        "colab": {}
      },
      "source": [
        "# 패키지 불러오기\n",
        "\n",
        "import numpy as np\n",
        "from keras import Input\n",
        "from keras.models import Sequential, load_model, Model\n",
        "from keras.layers import Dense, Dropout, Activation, Flatten\n",
        "from keras.layers import Conv2D, MaxPooling2D, GlobalAveragePooling2D, BatchNormalization\n",
        "from keras.preprocessing.image import ImageDataGenerator\n",
        "from keras.callbacks import EarlyStopping, ModelCheckpoint\n",
        "from keras.applications import VGG16"
      ],
      "execution_count": 0,
      "outputs": []
    },
    {
      "cell_type": "code",
      "metadata": {
        "id": "12Lv45xcJe0w",
        "colab_type": "code",
        "colab": {
          "base_uri": "https://localhost:8080/",
          "height": 70
        },
        "outputId": "90ab6e70-c9b3-4d79-e8c6-c0f80c1382cb"
      },
      "source": [
        "# 랜덤시드 고정\n",
        "np.random.seed(3)\n",
        "\n",
        "# 데이터 생성\n",
        "# rescale: rescaling factor. Defaults to None.\n",
        "# If None or 0, no rescaling is applied, otherwise we multiply the data by the value provided (before applying any other transformation).\n",
        "train_datagen = ImageDataGenerator(rescale=1./255)\n",
        "\n",
        "train_generator = train_datagen.flow_from_directory(\n",
        "    '/content/gdrive/My Drive/Galaxies-Classification-By-Using-Deep-Learing/datasets/train_galaxy', # 파일 경로\n",
        "    target_size=(224,224), # 이미지의 크기\n",
        "    batch_size=16,# 배치 크기\n",
        "    class_mode='categorical'# 분류 방식\n",
        ")\n",
        "\n",
        "val_datagen = ImageDataGenerator(rescale=1./255)\n",
        "\n",
        "val_generator = val_datagen.flow_from_directory(\n",
        "    '/content/gdrive/My Drive/Galaxies-Classification-By-Using-Deep-Learing/datasets/val_galaxy', # 파일 경로\n",
        "    target_size=(224,224), # 이미지의 크기\n",
        "    batch_size=16,# 배치 크기\n",
        "    class_mode='categorical'# 분류 방식\n",
        ")\n",
        "\n",
        "test_datagen = ImageDataGenerator(rescale=1./255)\n",
        "\n",
        "test_generator = test_datagen.flow_from_directory(\n",
        "    '/content/gdrive/My Drive/Galaxies-Classification-By-Using-Deep-Learing/datasets/test_galaxy', # 파일 경로\n",
        "    target_size=(224,224), # 이미지의 크기\n",
        "    batch_size=16,# 배치 크기\n",
        "    class_mode='categorical'# 분류 방식\n",
        ")"
      ],
      "execution_count": 3,
      "outputs": [
        {
          "output_type": "stream",
          "text": [
            "Found 10249 images belonging to 3 classes.\n",
            "Found 600 images belonging to 3 classes.\n",
            "Found 600 images belonging to 3 classes.\n"
          ],
          "name": "stdout"
        }
      ]
    },
    {
      "cell_type": "markdown",
      "metadata": {
        "id": "57FF5oCZKALI",
        "colab_type": "text"
      },
      "source": [
        "# VGG16_Model 1"
      ]
    },
    {
      "cell_type": "markdown",
      "metadata": {
        "id": "doSeVkqmKEfy",
        "colab_type": "text"
      },
      "source": [
        "* pre-trained network\n",
        "* weight='imagenet'\n",
        "* vgg16_model1.trainable = False\n",
        "* Dense 4096, 2048, 1024, 3"
      ]
    },
    {
      "cell_type": "code",
      "metadata": {
        "id": "FksbBXBIKeom",
        "colab_type": "code",
        "colab": {
          "base_uri": "https://localhost:8080/",
          "height": 1000
        },
        "outputId": "488d0439-000e-4b24-ac21-5d9dddd796d7"
      },
      "source": [
        "# weights='imagenet' : 이미지넷으로 트레이닝된 모델을 불러온다\n",
        "# include_top : 상단의 F.C layer를 포함할 것인지 아닌지 결정하는 파라미터\n",
        "# VGG16.trainable = True/False : feature extraction 파라미터 학습여부\n",
        "\n",
        "# VGGNet = VGG16(weights='imagenet', include_top=False, input_shape=(224,224,3))\n",
        "VGGNet = VGG16(weights='imagenet')\n",
        "VGGNet.trainable = False\n",
        "\n",
        "VGGNet.summary()"
      ],
      "execution_count": 6,
      "outputs": [
        {
          "output_type": "stream",
          "text": [
            "Downloading data from https://github.com/fchollet/deep-learning-models/releases/download/v0.1/vgg16_weights_tf_dim_ordering_tf_kernels.h5\n",
            "553467904/553467096 [==============================] - 41s 0us/step\n",
            "Model: \"vgg16\"\n",
            "_________________________________________________________________\n",
            "Layer (type)                 Output Shape              Param #   \n",
            "=================================================================\n",
            "input_3 (InputLayer)         (None, 224, 224, 3)       0         \n",
            "_________________________________________________________________\n",
            "block1_conv1 (Conv2D)        (None, 224, 224, 64)      1792      \n",
            "_________________________________________________________________\n",
            "block1_conv2 (Conv2D)        (None, 224, 224, 64)      36928     \n",
            "_________________________________________________________________\n",
            "block1_pool (MaxPooling2D)   (None, 112, 112, 64)      0         \n",
            "_________________________________________________________________\n",
            "block2_conv1 (Conv2D)        (None, 112, 112, 128)     73856     \n",
            "_________________________________________________________________\n",
            "block2_conv2 (Conv2D)        (None, 112, 112, 128)     147584    \n",
            "_________________________________________________________________\n",
            "block2_pool (MaxPooling2D)   (None, 56, 56, 128)       0         \n",
            "_________________________________________________________________\n",
            "block3_conv1 (Conv2D)        (None, 56, 56, 256)       295168    \n",
            "_________________________________________________________________\n",
            "block3_conv2 (Conv2D)        (None, 56, 56, 256)       590080    \n",
            "_________________________________________________________________\n",
            "block3_conv3 (Conv2D)        (None, 56, 56, 256)       590080    \n",
            "_________________________________________________________________\n",
            "block3_pool (MaxPooling2D)   (None, 28, 28, 256)       0         \n",
            "_________________________________________________________________\n",
            "block4_conv1 (Conv2D)        (None, 28, 28, 512)       1180160   \n",
            "_________________________________________________________________\n",
            "block4_conv2 (Conv2D)        (None, 28, 28, 512)       2359808   \n",
            "_________________________________________________________________\n",
            "block4_conv3 (Conv2D)        (None, 28, 28, 512)       2359808   \n",
            "_________________________________________________________________\n",
            "block4_pool (MaxPooling2D)   (None, 14, 14, 512)       0         \n",
            "_________________________________________________________________\n",
            "block5_conv1 (Conv2D)        (None, 14, 14, 512)       2359808   \n",
            "_________________________________________________________________\n",
            "block5_conv2 (Conv2D)        (None, 14, 14, 512)       2359808   \n",
            "_________________________________________________________________\n",
            "block5_conv3 (Conv2D)        (None, 14, 14, 512)       2359808   \n",
            "_________________________________________________________________\n",
            "block5_pool (MaxPooling2D)   (None, 7, 7, 512)         0         \n",
            "_________________________________________________________________\n",
            "flatten (Flatten)            (None, 25088)             0         \n",
            "_________________________________________________________________\n",
            "fc1 (Dense)                  (None, 4096)              102764544 \n",
            "_________________________________________________________________\n",
            "fc2 (Dense)                  (None, 4096)              16781312  \n",
            "_________________________________________________________________\n",
            "predictions (Dense)          (None, 1000)              4097000   \n",
            "=================================================================\n",
            "Total params: 138,357,544\n",
            "Trainable params: 0\n",
            "Non-trainable params: 138,357,544\n",
            "_________________________________________________________________\n"
          ],
          "name": "stdout"
        }
      ]
    },
    {
      "cell_type": "code",
      "metadata": {
        "id": "nH4FRGS3LDWa",
        "colab_type": "code",
        "colab": {
          "base_uri": "https://localhost:8080/",
          "height": 1000
        },
        "outputId": "cb5c4c6e-8640-4b4f-923f-783fe15f1771"
      },
      "source": [
        "vgg_maxpool5 = VGGNet.get_layer('block5_pool').output\n",
        "\n",
        "Feature_Flatten = Flatten()(vgg_maxpool5)\n",
        "dense1 = Dense(4096, activation='relu', kernel_initializer='he_normal', name='dense1')(Feature_Flatten)\n",
        "dense2 = Dense(2048, activation='relu', kernel_initializer='he_normal', name='dense2')(dense1)\n",
        "dense3 = Dense(1024, activation='relu', kernel_initializer='he_normal', name='dense3')(dense2)\n",
        "predictions = Dense(3, activation='softmax', name='output')(dense3)\n",
        "\n",
        "VGG16_Model1 = Model(inputs=VGGNet.input, outputs=predictions)\n",
        "\n",
        "VGG16_Model1.compile(optimizer='adam', loss='categorical_crossentropy', metrics = ['accuracy'])\n",
        "\n",
        "VGG16_Model1.summary()"
      ],
      "execution_count": 11,
      "outputs": [
        {
          "output_type": "stream",
          "text": [
            "Model: \"model_3\"\n",
            "_________________________________________________________________\n",
            "Layer (type)                 Output Shape              Param #   \n",
            "=================================================================\n",
            "input_3 (InputLayer)         (None, 224, 224, 3)       0         \n",
            "_________________________________________________________________\n",
            "block1_conv1 (Conv2D)        (None, 224, 224, 64)      1792      \n",
            "_________________________________________________________________\n",
            "block1_conv2 (Conv2D)        (None, 224, 224, 64)      36928     \n",
            "_________________________________________________________________\n",
            "block1_pool (MaxPooling2D)   (None, 112, 112, 64)      0         \n",
            "_________________________________________________________________\n",
            "block2_conv1 (Conv2D)        (None, 112, 112, 128)     73856     \n",
            "_________________________________________________________________\n",
            "block2_conv2 (Conv2D)        (None, 112, 112, 128)     147584    \n",
            "_________________________________________________________________\n",
            "block2_pool (MaxPooling2D)   (None, 56, 56, 128)       0         \n",
            "_________________________________________________________________\n",
            "block3_conv1 (Conv2D)        (None, 56, 56, 256)       295168    \n",
            "_________________________________________________________________\n",
            "block3_conv2 (Conv2D)        (None, 56, 56, 256)       590080    \n",
            "_________________________________________________________________\n",
            "block3_conv3 (Conv2D)        (None, 56, 56, 256)       590080    \n",
            "_________________________________________________________________\n",
            "block3_pool (MaxPooling2D)   (None, 28, 28, 256)       0         \n",
            "_________________________________________________________________\n",
            "block4_conv1 (Conv2D)        (None, 28, 28, 512)       1180160   \n",
            "_________________________________________________________________\n",
            "block4_conv2 (Conv2D)        (None, 28, 28, 512)       2359808   \n",
            "_________________________________________________________________\n",
            "block4_conv3 (Conv2D)        (None, 28, 28, 512)       2359808   \n",
            "_________________________________________________________________\n",
            "block4_pool (MaxPooling2D)   (None, 14, 14, 512)       0         \n",
            "_________________________________________________________________\n",
            "block5_conv1 (Conv2D)        (None, 14, 14, 512)       2359808   \n",
            "_________________________________________________________________\n",
            "block5_conv2 (Conv2D)        (None, 14, 14, 512)       2359808   \n",
            "_________________________________________________________________\n",
            "block5_conv3 (Conv2D)        (None, 14, 14, 512)       2359808   \n",
            "_________________________________________________________________\n",
            "block5_pool (MaxPooling2D)   (None, 7, 7, 512)         0         \n",
            "_________________________________________________________________\n",
            "flatten_4 (Flatten)          (None, 25088)             0         \n",
            "_________________________________________________________________\n",
            "dense1 (Dense)               (None, 4096)              102764544 \n",
            "_________________________________________________________________\n",
            "dense2 (Dense)               (None, 2048)              8390656   \n",
            "_________________________________________________________________\n",
            "dense3 (Dense)               (None, 1024)              2098176   \n",
            "_________________________________________________________________\n",
            "output (Dense)               (None, 3)                 3075      \n",
            "=================================================================\n",
            "Total params: 127,971,139\n",
            "Trainable params: 127,971,139\n",
            "Non-trainable params: 0\n",
            "_________________________________________________________________\n"
          ],
          "name": "stdout"
        }
      ]
    },
    {
      "cell_type": "code",
      "metadata": {
        "id": "pLhPTmBPN71I",
        "colab_type": "code",
        "colab": {}
      },
      "source": [
        "# 학습 조기종료\n",
        "\n",
        "es = EarlyStopping(monitor='val_loss', mode='min', verbose=1, patience=20)"
      ],
      "execution_count": 0,
      "outputs": []
    },
    {
      "cell_type": "code",
      "metadata": {
        "id": "K59awEqbO3jT",
        "colab_type": "code",
        "colab": {}
      },
      "source": [
        "# 최적 모델 선택 기법\n",
        "\n",
        "filepath = '/content/gdrive/My Drive/Galaxies-Classification-By-Using-Deep-Learing/best_VGG16_model1-{epoch:02d}-{val_acc:.2f}.h5'\n",
        "mc = ModelCheckpoint(filepath,\n",
        "                     monitor='val_loss',\n",
        "                     mode='min',\n",
        "                     save_best_only=True)"
      ],
      "execution_count": 0,
      "outputs": []
    },
    {
      "cell_type": "code",
      "metadata": {
        "id": "JZF-IkzCPMx-",
        "colab_type": "code",
        "colab": {
          "base_uri": "https://localhost:8080/",
          "height": 195
        },
        "outputId": "792afbe6-d456-414e-d626-35ca5467e9d8"
      },
      "source": [
        "# 모델 학습시키기\n",
        "\n",
        "hist = VGG16_Model1.fit_generator(\n",
        "    train_generator,\n",
        "    steps_per_epoch=640,\n",
        "    epochs=100,\n",
        "    validation_data=val_generator,\n",
        "    validation_steps=30,\n",
        "    callbacks=[es,mc]\n",
        ")"
      ],
      "execution_count": 0,
      "outputs": [
        {
          "output_type": "stream",
          "text": [
            "WARNING:tensorflow:From /usr/local/lib/python3.6/dist-packages/tensorflow_core/python/ops/math_grad.py:1424: where (from tensorflow.python.ops.array_ops) is deprecated and will be removed in a future version.\n",
            "Instructions for updating:\n",
            "Use tf.where in 2.0, which has the same broadcast rule as np.where\n",
            "WARNING:tensorflow:From /usr/local/lib/python3.6/dist-packages/keras/backend/tensorflow_backend.py:1033: The name tf.assign_add is deprecated. Please use tf.compat.v1.assign_add instead.\n",
            "\n",
            "WARNING:tensorflow:From /usr/local/lib/python3.6/dist-packages/keras/backend/tensorflow_backend.py:1020: The name tf.assign is deprecated. Please use tf.compat.v1.assign instead.\n",
            "\n",
            "Epoch 1/100\n",
            "191/640 [=======>......................] - ETA: 1:04:04 - loss: 8.6938 - acc: 0.4584"
          ],
          "name": "stdout"
        }
      ]
    },
    {
      "cell_type": "code",
      "metadata": {
        "id": "Nw2e5Vt4PVZa",
        "colab_type": "code",
        "colab": {}
      },
      "source": [
        "# 모델 학습 과정 표시하기\n",
        "\n",
        "%matplotlib inline\n",
        "import matplotlib.pyplot as plt\n",
        "\n",
        "fig, loss_ax = plt.subplots()\n",
        "\n",
        "acc_ax = loss_ax.twinx()\n",
        "\n",
        "loss_ax.plot(hist.history['loss'], 'y', label='train loss')\n",
        "loss_ax.plot(hist.history['val_loss'], 'r', label='val loss')\n",
        "\n",
        "acc_ax.plot(hist.history['acc'], 'b', label='train acc')\n",
        "acc_ax.plot(hist.history['val_acc'], 'g', label='val acc')\n",
        "\n",
        "loss_ax.set_xlabel('epoch')\n",
        "loss_ax.set_ylabel('loss')\n",
        "acc_ax.set_ylabel('accuray')\n",
        "\n",
        "loss_ax.legend(loc='upper left')\n",
        "acc_ax.legend(loc='lower left')\n",
        "\n",
        "plt.show()"
      ],
      "execution_count": 0,
      "outputs": []
    },
    {
      "cell_type": "markdown",
      "metadata": {
        "id": "ufHKAX2ePars",
        "colab_type": "text"
      },
      "source": [
        "# Model 2"
      ]
    },
    {
      "cell_type": "markdown",
      "metadata": {
        "id": "qW7ksB8GPpBD",
        "colab_type": "text"
      },
      "source": [
        "* pre-trained network\n",
        "* weight='imagenet'\n",
        "* vgg16_model1.trainable = True\n",
        "* Dense 4096, 2048, 1024, 3"
      ]
    },
    {
      "cell_type": "code",
      "metadata": {
        "id": "SML4PHX3QFlU",
        "colab_type": "code",
        "colab": {}
      },
      "source": [
        "VGGNet.trainable = False\n",
        "\n",
        "VGGNet.summary()"
      ],
      "execution_count": 0,
      "outputs": []
    },
    {
      "cell_type": "code",
      "metadata": {
        "id": "OBwWcYvbQsZm",
        "colab_type": "code",
        "colab": {}
      },
      "source": [
        "vgg_maxpool5 = VGGNet.get_layer('block5_pool').output\n",
        "\n",
        "Feature_Flatten = Flatten()(vgg_maxpool5)\n",
        "dense1 = Dense(4096, activation='relu', kernel_initializer='he_normal', name='dense1')(Feature_Flatten)\n",
        "dense2 = Dense(2048, activation='relu', kernel_initializer='he_normal', name='dense2')(dense1)\n",
        "dense3 = Dense(1024, activation='relu', kernel_initializer='he_normal', name='dense3')(dense2)\n",
        "predictions = Dense(3, activation='softmax', name='output')(dense3)\n",
        "\n",
        "VGG16_Model2 = Model(inputs=VGGNet.input, outputs=predictions)\n",
        "\n",
        "VGG16_Model2.compile(optimizer='adam', loss='categorical_crossentropy', metrics = ['accuracy'])\n",
        "\n",
        "VGG16_Model2.summary()"
      ],
      "execution_count": 0,
      "outputs": []
    },
    {
      "cell_type": "code",
      "metadata": {
        "id": "VbnE36wHQ54P",
        "colab_type": "code",
        "colab": {}
      },
      "source": [
        "# 학습 조기종료\n",
        "\n",
        "es = EarlyStopping(monitor='val_loss', mode='min', verbose=1, patience=20)"
      ],
      "execution_count": 0,
      "outputs": []
    },
    {
      "cell_type": "code",
      "metadata": {
        "id": "k4OO_1PYQ-Kv",
        "colab_type": "code",
        "colab": {}
      },
      "source": [
        "# 최적 모델 선택 기법\n",
        "\n",
        "filepath = '/content/gdrive/My Drive/Galaxies-Classification-By-Using-Deep-Learing/best_VGG16_model2-{epoch:02d}-{val_acc:.2f}.h5'\n",
        "mc = ModelCheckpoint(filepath,\n",
        "                     monitor='val_loss',\n",
        "                     mode='min',\n",
        "                     save_best_only=True)"
      ],
      "execution_count": 0,
      "outputs": []
    },
    {
      "cell_type": "code",
      "metadata": {
        "id": "gPBcZ8GARC7a",
        "colab_type": "code",
        "colab": {}
      },
      "source": [
        "# 모델 학습시키기\n",
        "\n",
        "hist = VGG16_Model2.fit_generator(\n",
        "    train_generator,\n",
        "    steps_per_epoch=640,\n",
        "    epochs=100,\n",
        "    validation_data=val_generator,\n",
        "    validation_steps=30,\n",
        "    callbacks=[es,mc]\n",
        ")"
      ],
      "execution_count": 0,
      "outputs": []
    },
    {
      "cell_type": "code",
      "metadata": {
        "id": "mONV4d03RC_n",
        "colab_type": "code",
        "colab": {}
      },
      "source": [
        "# 모델 학습 과정 표시하기\n",
        "\n",
        "%matplotlib inline\n",
        "import matplotlib.pyplot as plt\n",
        "\n",
        "fig, loss_ax = plt.subplots()\n",
        "\n",
        "acc_ax = loss_ax.twinx()\n",
        "\n",
        "loss_ax.plot(hist.history['loss'], 'y', label='train loss')\n",
        "loss_ax.plot(hist.history['val_loss'], 'r', label='val loss')\n",
        "\n",
        "acc_ax.plot(hist.history['acc'], 'b', label='train acc')\n",
        "acc_ax.plot(hist.history['val_acc'], 'g', label='val acc')\n",
        "\n",
        "loss_ax.set_xlabel('epoch')\n",
        "loss_ax.set_ylabel('loss')\n",
        "acc_ax.set_ylabel('accuray')\n",
        "\n",
        "loss_ax.legend(loc='upper left')\n",
        "acc_ax.legend(loc='lower left')\n",
        "\n",
        "plt.show()"
      ],
      "execution_count": 0,
      "outputs": []
    },
    {
      "cell_type": "code",
      "metadata": {
        "id": "gkSGeCPJRDD2",
        "colab_type": "code",
        "colab": {}
      },
      "source": [
        "# 모델 평가\n",
        "# 학습한 모델을 평가해봅니다. 제네레이터에서 제공되는 샘플로 평가할 때는 evaluate_generator 함수를 사용합니다.\n",
        "\n",
        "best_model1 = load_model('./best_VGG16_model1/...')\n",
        "best_model2 = load_model('./best_VGG16_model2/...')\n",
        "\n",
        "scores1 = best_model1.evaluate_generator(test_generator, steps=30)\n",
        "print(\"VGG16_model1 %s: %.2f%%\" %(best_model1.metrics_names[1], scores1[1]*100))\n",
        "scores2 = best_model2.evaluate_generator(test_generator, steps=30)\n",
        "print(\"VGG16_model2 %s: %.2f%%\" %(best_model2.metrics_names[1], scores2[1]*100))"
      ],
      "execution_count": 0,
      "outputs": []
    }
  ]
}