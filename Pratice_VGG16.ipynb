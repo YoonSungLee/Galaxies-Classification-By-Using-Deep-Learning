{
  "nbformat": 4,
  "nbformat_minor": 0,
  "metadata": {
    "colab": {
      "name": "Pratice_VGG16.ipynb",
      "provenance": [],
      "collapsed_sections": [],
      "authorship_tag": "ABX9TyNHdlCV86Okg3MUSax1F/Bz",
      "include_colab_link": true
    },
    "kernelspec": {
      "name": "python3",
      "display_name": "Python 3"
    },
    "accelerator": "GPU"
  },
  "cells": [
    {
      "cell_type": "markdown",
      "metadata": {
        "id": "view-in-github",
        "colab_type": "text"
      },
      "source": [
        "<a href=\"https://colab.research.google.com/github/YoonSungLee/Galaxies-Classification-By-Using-Deep-Learning/blob/master/Pratice_VGG16.ipynb\" target=\"_parent\"><img src=\"https://colab.research.google.com/assets/colab-badge.svg\" alt=\"Open In Colab\"/></a>"
      ]
    },
    {
      "cell_type": "code",
      "metadata": {
        "id": "PkokoGus6DwJ",
        "colab_type": "code",
        "outputId": "aa37ecf5-7e93-459a-9062-9f13f231e1de",
        "colab": {
          "base_uri": "https://localhost:8080/",
          "height": 125
        }
      },
      "source": [
        "# 구글 드라이브 mount\n",
        "\n",
        "from google.colab import drive\n",
        "drive.mount('/content/gdrive')"
      ],
      "execution_count": 1,
      "outputs": [
        {
          "output_type": "stream",
          "text": [
            "Go to this URL in a browser: https://accounts.google.com/o/oauth2/auth?client_id=947318989803-6bn6qk8qdgf4n4g3pfee6491hc0brc4i.apps.googleusercontent.com&redirect_uri=urn%3aietf%3awg%3aoauth%3a2.0%3aoob&response_type=code&scope=email%20https%3a%2f%2fwww.googleapis.com%2fauth%2fdocs.test%20https%3a%2f%2fwww.googleapis.com%2fauth%2fdrive%20https%3a%2f%2fwww.googleapis.com%2fauth%2fdrive.photos.readonly%20https%3a%2f%2fwww.googleapis.com%2fauth%2fpeopleapi.readonly\n",
            "\n",
            "Enter your authorization code:\n",
            "··········\n",
            "Mounted at /content/gdrive\n"
          ],
          "name": "stdout"
        }
      ]
    },
    {
      "cell_type": "code",
      "metadata": {
        "id": "-UF3_KQEGewm",
        "colab_type": "code",
        "colab": {
          "base_uri": "https://localhost:8080/",
          "height": 81
        },
        "outputId": "cfa09272-0474-41c0-e060-be8d93dcd827"
      },
      "source": [
        "# 패키지 불러오기\n",
        "\n",
        "import numpy as np\n",
        "from keras import Input\n",
        "from keras.models import Sequential, load_model, Model\n",
        "from keras.layers import Dense, Dropout, Activation, Flatten\n",
        "from keras.layers import Conv2D, MaxPooling2D, GlobalAveragePooling2D, BatchNormalization\n",
        "from keras.preprocessing.image import ImageDataGenerator\n",
        "from keras.callbacks import EarlyStopping, ModelCheckpoint\n",
        "from keras.applications import VGG16"
      ],
      "execution_count": 2,
      "outputs": [
        {
          "output_type": "stream",
          "text": [
            "Using TensorFlow backend.\n"
          ],
          "name": "stderr"
        },
        {
          "output_type": "display_data",
          "data": {
            "text/html": [
              "<p style=\"color: red;\">\n",
              "The default version of TensorFlow in Colab will soon switch to TensorFlow 2.x.<br>\n",
              "We recommend you <a href=\"https://www.tensorflow.org/guide/migrate\" target=\"_blank\">upgrade</a> now \n",
              "or ensure your notebook will continue to use TensorFlow 1.x via the <code>%tensorflow_version 1.x</code> magic:\n",
              "<a href=\"https://colab.research.google.com/notebooks/tensorflow_version.ipynb\" target=\"_blank\">more info</a>.</p>\n"
            ],
            "text/plain": [
              "<IPython.core.display.HTML object>"
            ]
          },
          "metadata": {
            "tags": []
          }
        }
      ]
    },
    {
      "cell_type": "code",
      "metadata": {
        "id": "12Lv45xcJe0w",
        "colab_type": "code",
        "outputId": "f008959d-e17c-4e5e-a0a5-4ad87ac6e18e",
        "colab": {
          "base_uri": "https://localhost:8080/",
          "height": 70
        }
      },
      "source": [
        "# 랜덤시드 고정\n",
        "np.random.seed(3)\n",
        "\n",
        "# 데이터 생성\n",
        "# rescale: rescaling factor. Defaults to None.\n",
        "# If None or 0, no rescaling is applied, otherwise we multiply the data by the value provided (before applying any other transformation).\n",
        "train_datagen = ImageDataGenerator(rescale=1./255)\n",
        "\n",
        "train_generator = train_datagen.flow_from_directory(\n",
        "    '/content/gdrive/My Drive/Galaxies-Classification-By-Using-Deep-Learing/datasets/train_galaxy', # 파일 경로\n",
        "    target_size=(224,224), # 이미지의 크기\n",
        "    batch_size=16,# 배치 크기\n",
        "    class_mode='categorical'# 분류 방식\n",
        ")\n",
        "\n",
        "val_datagen = ImageDataGenerator(rescale=1./255)\n",
        "\n",
        "val_generator = val_datagen.flow_from_directory(\n",
        "    '/content/gdrive/My Drive/Galaxies-Classification-By-Using-Deep-Learing/datasets/val_galaxy', # 파일 경로\n",
        "    target_size=(224,224), # 이미지의 크기\n",
        "    batch_size=16,# 배치 크기\n",
        "    class_mode='categorical'# 분류 방식\n",
        ")\n",
        "\n",
        "test_datagen = ImageDataGenerator(rescale=1./255)\n",
        "\n",
        "test_generator = test_datagen.flow_from_directory(\n",
        "    '/content/gdrive/My Drive/Galaxies-Classification-By-Using-Deep-Learing/datasets/test_galaxy', # 파일 경로\n",
        "    target_size=(224,224), # 이미지의 크기\n",
        "    batch_size=16,# 배치 크기\n",
        "    class_mode='categorical'# 분류 방식\n",
        ")"
      ],
      "execution_count": 3,
      "outputs": [
        {
          "output_type": "stream",
          "text": [
            "Found 10249 images belonging to 3 classes.\n",
            "Found 600 images belonging to 3 classes.\n",
            "Found 600 images belonging to 3 classes.\n"
          ],
          "name": "stdout"
        }
      ]
    },
    {
      "cell_type": "markdown",
      "metadata": {
        "id": "57FF5oCZKALI",
        "colab_type": "text"
      },
      "source": [
        "# VGG16_Model 1"
      ]
    },
    {
      "cell_type": "markdown",
      "metadata": {
        "id": "doSeVkqmKEfy",
        "colab_type": "text"
      },
      "source": [
        "* pre-trained network\n",
        "* weight='imagenet'\n",
        "* vgg16_model1.trainable = False\n",
        "* Dense 4096, 2048, 1024, 3"
      ]
    },
    {
      "cell_type": "code",
      "metadata": {
        "id": "FksbBXBIKeom",
        "colab_type": "code",
        "outputId": "488d0439-000e-4b24-ac21-5d9dddd796d7",
        "colab": {
          "base_uri": "https://localhost:8080/",
          "height": 1000
        }
      },
      "source": [
        "# weights='imagenet' : 이미지넷으로 트레이닝된 모델을 불러온다\n",
        "# include_top : 상단의 F.C layer를 포함할 것인지 아닌지 결정하는 파라미터\n",
        "# VGG16.trainable = True/False : feature extraction 파라미터 학습여부\n",
        "\n",
        "# VGGNet = VGG16(weights='imagenet', include_top=False, input_shape=(224,224,3))\n",
        "VGGNet = VGG16(weights='imagenet')\n",
        "VGGNet.trainable = False\n",
        "\n",
        "VGGNet.summary()"
      ],
      "execution_count": 0,
      "outputs": [
        {
          "output_type": "stream",
          "text": [
            "Downloading data from https://github.com/fchollet/deep-learning-models/releases/download/v0.1/vgg16_weights_tf_dim_ordering_tf_kernels.h5\n",
            "553467904/553467096 [==============================] - 41s 0us/step\n",
            "Model: \"vgg16\"\n",
            "_________________________________________________________________\n",
            "Layer (type)                 Output Shape              Param #   \n",
            "=================================================================\n",
            "input_3 (InputLayer)         (None, 224, 224, 3)       0         \n",
            "_________________________________________________________________\n",
            "block1_conv1 (Conv2D)        (None, 224, 224, 64)      1792      \n",
            "_________________________________________________________________\n",
            "block1_conv2 (Conv2D)        (None, 224, 224, 64)      36928     \n",
            "_________________________________________________________________\n",
            "block1_pool (MaxPooling2D)   (None, 112, 112, 64)      0         \n",
            "_________________________________________________________________\n",
            "block2_conv1 (Conv2D)        (None, 112, 112, 128)     73856     \n",
            "_________________________________________________________________\n",
            "block2_conv2 (Conv2D)        (None, 112, 112, 128)     147584    \n",
            "_________________________________________________________________\n",
            "block2_pool (MaxPooling2D)   (None, 56, 56, 128)       0         \n",
            "_________________________________________________________________\n",
            "block3_conv1 (Conv2D)        (None, 56, 56, 256)       295168    \n",
            "_________________________________________________________________\n",
            "block3_conv2 (Conv2D)        (None, 56, 56, 256)       590080    \n",
            "_________________________________________________________________\n",
            "block3_conv3 (Conv2D)        (None, 56, 56, 256)       590080    \n",
            "_________________________________________________________________\n",
            "block3_pool (MaxPooling2D)   (None, 28, 28, 256)       0         \n",
            "_________________________________________________________________\n",
            "block4_conv1 (Conv2D)        (None, 28, 28, 512)       1180160   \n",
            "_________________________________________________________________\n",
            "block4_conv2 (Conv2D)        (None, 28, 28, 512)       2359808   \n",
            "_________________________________________________________________\n",
            "block4_conv3 (Conv2D)        (None, 28, 28, 512)       2359808   \n",
            "_________________________________________________________________\n",
            "block4_pool (MaxPooling2D)   (None, 14, 14, 512)       0         \n",
            "_________________________________________________________________\n",
            "block5_conv1 (Conv2D)        (None, 14, 14, 512)       2359808   \n",
            "_________________________________________________________________\n",
            "block5_conv2 (Conv2D)        (None, 14, 14, 512)       2359808   \n",
            "_________________________________________________________________\n",
            "block5_conv3 (Conv2D)        (None, 14, 14, 512)       2359808   \n",
            "_________________________________________________________________\n",
            "block5_pool (MaxPooling2D)   (None, 7, 7, 512)         0         \n",
            "_________________________________________________________________\n",
            "flatten (Flatten)            (None, 25088)             0         \n",
            "_________________________________________________________________\n",
            "fc1 (Dense)                  (None, 4096)              102764544 \n",
            "_________________________________________________________________\n",
            "fc2 (Dense)                  (None, 4096)              16781312  \n",
            "_________________________________________________________________\n",
            "predictions (Dense)          (None, 1000)              4097000   \n",
            "=================================================================\n",
            "Total params: 138,357,544\n",
            "Trainable params: 0\n",
            "Non-trainable params: 138,357,544\n",
            "_________________________________________________________________\n"
          ],
          "name": "stdout"
        }
      ]
    },
    {
      "cell_type": "code",
      "metadata": {
        "id": "nH4FRGS3LDWa",
        "colab_type": "code",
        "outputId": "cb5c4c6e-8640-4b4f-923f-783fe15f1771",
        "colab": {
          "base_uri": "https://localhost:8080/",
          "height": 1000
        }
      },
      "source": [
        "vgg_maxpool5 = VGGNet.get_layer('block5_pool').output\n",
        "\n",
        "Feature_Flatten = Flatten()(vgg_maxpool5)\n",
        "dense1 = Dense(4096, activation='relu', kernel_initializer='he_normal', name='dense1')(Feature_Flatten)\n",
        "dense2 = Dense(2048, activation='relu', kernel_initializer='he_normal', name='dense2')(dense1)\n",
        "dense3 = Dense(1024, activation='relu', kernel_initializer='he_normal', name='dense3')(dense2)\n",
        "predictions = Dense(3, activation='softmax', name='output')(dense3)\n",
        "\n",
        "VGG16_Model1 = Model(inputs=VGGNet.input, outputs=predictions)\n",
        "\n",
        "VGG16_Model1.compile(optimizer='adam', loss='categorical_crossentropy', metrics = ['accuracy'])\n",
        "\n",
        "VGG16_Model1.summary()"
      ],
      "execution_count": 0,
      "outputs": [
        {
          "output_type": "stream",
          "text": [
            "Model: \"model_3\"\n",
            "_________________________________________________________________\n",
            "Layer (type)                 Output Shape              Param #   \n",
            "=================================================================\n",
            "input_3 (InputLayer)         (None, 224, 224, 3)       0         \n",
            "_________________________________________________________________\n",
            "block1_conv1 (Conv2D)        (None, 224, 224, 64)      1792      \n",
            "_________________________________________________________________\n",
            "block1_conv2 (Conv2D)        (None, 224, 224, 64)      36928     \n",
            "_________________________________________________________________\n",
            "block1_pool (MaxPooling2D)   (None, 112, 112, 64)      0         \n",
            "_________________________________________________________________\n",
            "block2_conv1 (Conv2D)        (None, 112, 112, 128)     73856     \n",
            "_________________________________________________________________\n",
            "block2_conv2 (Conv2D)        (None, 112, 112, 128)     147584    \n",
            "_________________________________________________________________\n",
            "block2_pool (MaxPooling2D)   (None, 56, 56, 128)       0         \n",
            "_________________________________________________________________\n",
            "block3_conv1 (Conv2D)        (None, 56, 56, 256)       295168    \n",
            "_________________________________________________________________\n",
            "block3_conv2 (Conv2D)        (None, 56, 56, 256)       590080    \n",
            "_________________________________________________________________\n",
            "block3_conv3 (Conv2D)        (None, 56, 56, 256)       590080    \n",
            "_________________________________________________________________\n",
            "block3_pool (MaxPooling2D)   (None, 28, 28, 256)       0         \n",
            "_________________________________________________________________\n",
            "block4_conv1 (Conv2D)        (None, 28, 28, 512)       1180160   \n",
            "_________________________________________________________________\n",
            "block4_conv2 (Conv2D)        (None, 28, 28, 512)       2359808   \n",
            "_________________________________________________________________\n",
            "block4_conv3 (Conv2D)        (None, 28, 28, 512)       2359808   \n",
            "_________________________________________________________________\n",
            "block4_pool (MaxPooling2D)   (None, 14, 14, 512)       0         \n",
            "_________________________________________________________________\n",
            "block5_conv1 (Conv2D)        (None, 14, 14, 512)       2359808   \n",
            "_________________________________________________________________\n",
            "block5_conv2 (Conv2D)        (None, 14, 14, 512)       2359808   \n",
            "_________________________________________________________________\n",
            "block5_conv3 (Conv2D)        (None, 14, 14, 512)       2359808   \n",
            "_________________________________________________________________\n",
            "block5_pool (MaxPooling2D)   (None, 7, 7, 512)         0         \n",
            "_________________________________________________________________\n",
            "flatten_4 (Flatten)          (None, 25088)             0         \n",
            "_________________________________________________________________\n",
            "dense1 (Dense)               (None, 4096)              102764544 \n",
            "_________________________________________________________________\n",
            "dense2 (Dense)               (None, 2048)              8390656   \n",
            "_________________________________________________________________\n",
            "dense3 (Dense)               (None, 1024)              2098176   \n",
            "_________________________________________________________________\n",
            "output (Dense)               (None, 3)                 3075      \n",
            "=================================================================\n",
            "Total params: 127,971,139\n",
            "Trainable params: 127,971,139\n",
            "Non-trainable params: 0\n",
            "_________________________________________________________________\n"
          ],
          "name": "stdout"
        }
      ]
    },
    {
      "cell_type": "code",
      "metadata": {
        "id": "pLhPTmBPN71I",
        "colab_type": "code",
        "colab": {}
      },
      "source": [
        "# 학습 조기종료\n",
        "\n",
        "es = EarlyStopping(monitor='val_loss', mode='min', verbose=1, patience=20)"
      ],
      "execution_count": 0,
      "outputs": []
    },
    {
      "cell_type": "code",
      "metadata": {
        "id": "K59awEqbO3jT",
        "colab_type": "code",
        "colab": {}
      },
      "source": [
        "# 최적 모델 선택 기법\n",
        "\n",
        "filepath = '/content/gdrive/My Drive/Galaxies-Classification-By-Using-Deep-Learing/best_VGG16_model1-{epoch:02d}-{val_acc:.2f}.h5'\n",
        "mc = ModelCheckpoint(filepath,\n",
        "                     monitor='val_loss',\n",
        "                     mode='min',\n",
        "                     save_best_only=True)"
      ],
      "execution_count": 0,
      "outputs": []
    },
    {
      "cell_type": "code",
      "metadata": {
        "id": "JZF-IkzCPMx-",
        "colab_type": "code",
        "outputId": "792afbe6-d456-414e-d626-35ca5467e9d8",
        "colab": {
          "base_uri": "https://localhost:8080/",
          "height": 1000
        }
      },
      "source": [
        "# 모델 학습시키기\n",
        "\n",
        "hist = VGG16_Model1.fit_generator(\n",
        "    train_generator,\n",
        "    steps_per_epoch=640,\n",
        "    epochs=100,\n",
        "    validation_data=val_generator,\n",
        "    validation_steps=30,\n",
        "    callbacks=[es,mc]\n",
        ")"
      ],
      "execution_count": 0,
      "outputs": [
        {
          "output_type": "stream",
          "text": [
            "WARNING:tensorflow:From /usr/local/lib/python3.6/dist-packages/tensorflow_core/python/ops/math_grad.py:1424: where (from tensorflow.python.ops.array_ops) is deprecated and will be removed in a future version.\n",
            "Instructions for updating:\n",
            "Use tf.where in 2.0, which has the same broadcast rule as np.where\n",
            "WARNING:tensorflow:From /usr/local/lib/python3.6/dist-packages/keras/backend/tensorflow_backend.py:1033: The name tf.assign_add is deprecated. Please use tf.compat.v1.assign_add instead.\n",
            "\n",
            "WARNING:tensorflow:From /usr/local/lib/python3.6/dist-packages/keras/backend/tensorflow_backend.py:1020: The name tf.assign is deprecated. Please use tf.compat.v1.assign instead.\n",
            "\n",
            "Epoch 1/100\n",
            "640/640 [==============================] - 5612s 9s/step - loss: 8.8597 - acc: 0.4497 - val_loss: 10.9805 - val_acc: 0.3187\n",
            "Epoch 2/100\n",
            "640/640 [==============================] - 270s 422ms/step - loss: 8.8837 - acc: 0.4488 - val_loss: 10.5177 - val_acc: 0.3475\n",
            "Epoch 3/100\n",
            "640/640 [==============================] - 270s 421ms/step - loss: 8.8824 - acc: 0.4489 - val_loss: 10.5177 - val_acc: 0.3475\n",
            "Epoch 4/100\n",
            "640/640 [==============================] - 269s 421ms/step - loss: 8.8837 - acc: 0.4488 - val_loss: 10.7226 - val_acc: 0.3347\n",
            "Epoch 5/100\n",
            "640/640 [==============================] - 270s 421ms/step - loss: 8.8789 - acc: 0.4491 - val_loss: 10.9469 - val_acc: 0.3208\n",
            "Epoch 6/100\n",
            "640/640 [==============================] - 269s 421ms/step - loss: 8.8786 - acc: 0.4492 - val_loss: 10.8934 - val_acc: 0.3242\n",
            "Epoch 7/100\n",
            "640/640 [==============================] - 269s 421ms/step - loss: 8.8726 - acc: 0.4495 - val_loss: 10.1421 - val_acc: 0.3708\n",
            "Epoch 8/100\n",
            "640/640 [==============================] - 270s 421ms/step - loss: 8.8865 - acc: 0.4487 - val_loss: 11.2690 - val_acc: 0.3008\n",
            "Epoch 9/100\n",
            "640/640 [==============================] - 269s 421ms/step - loss: 8.8699 - acc: 0.4497 - val_loss: 10.7226 - val_acc: 0.3347\n",
            "Epoch 10/100\n",
            "640/640 [==============================] - 270s 421ms/step - loss: 8.8664 - acc: 0.4499 - val_loss: 10.6447 - val_acc: 0.3396\n",
            "Epoch 11/100\n",
            "640/640 [==============================] - 269s 421ms/step - loss: 8.8928 - acc: 0.4483 - val_loss: 11.0300 - val_acc: 0.3157\n",
            "Epoch 12/100\n",
            "640/640 [==============================] - 269s 421ms/step - loss: 8.8947 - acc: 0.4482 - val_loss: 10.7226 - val_acc: 0.3347\n",
            "Epoch 13/100\n",
            "640/640 [==============================] - 270s 421ms/step - loss: 8.8719 - acc: 0.4496 - val_loss: 10.9275 - val_acc: 0.3220\n",
            "Epoch 14/100\n",
            "640/640 [==============================] - 270s 421ms/step - loss: 8.8840 - acc: 0.4488 - val_loss: 10.2787 - val_acc: 0.3623\n",
            "Epoch 15/100\n",
            "640/640 [==============================] - 270s 422ms/step - loss: 8.8789 - acc: 0.4491 - val_loss: 10.6782 - val_acc: 0.3375\n",
            "Epoch 16/100\n",
            "640/640 [==============================] - 270s 421ms/step - loss: 8.8650 - acc: 0.4500 - val_loss: 10.9617 - val_acc: 0.3199\n",
            "Epoch 17/100\n",
            "640/640 [==============================] - 269s 421ms/step - loss: 8.8949 - acc: 0.4481 - val_loss: 10.7568 - val_acc: 0.3326\n",
            "Epoch 18/100\n",
            "640/640 [==============================] - 269s 421ms/step - loss: 8.8796 - acc: 0.4491 - val_loss: 10.6202 - val_acc: 0.3411\n",
            "Epoch 19/100\n",
            "640/640 [==============================] - 270s 421ms/step - loss: 8.8734 - acc: 0.4495 - val_loss: 10.8251 - val_acc: 0.3284\n",
            "Epoch 20/100\n",
            "640/640 [==============================] - 270s 421ms/step - loss: 8.8427 - acc: 0.4514 - val_loss: 10.4432 - val_acc: 0.3521\n",
            "Epoch 21/100\n",
            "640/640 [==============================] - 270s 422ms/step - loss: 8.9089 - acc: 0.4473 - val_loss: 10.9958 - val_acc: 0.3178\n",
            "Epoch 22/100\n",
            "640/640 [==============================] - 270s 421ms/step - loss: 8.8641 - acc: 0.4501 - val_loss: 10.7909 - val_acc: 0.3305\n",
            "Epoch 23/100\n",
            "640/640 [==============================] - 269s 421ms/step - loss: 8.8746 - acc: 0.4494 - val_loss: 10.8251 - val_acc: 0.3284\n",
            "Epoch 24/100\n",
            "640/640 [==============================] - 269s 421ms/step - loss: 8.8975 - acc: 0.4480 - val_loss: 10.5439 - val_acc: 0.3458\n",
            "Epoch 25/100\n",
            "640/640 [==============================] - 269s 421ms/step - loss: 8.8971 - acc: 0.4480 - val_loss: 10.9958 - val_acc: 0.3178\n",
            "Epoch 26/100\n",
            "640/640 [==============================] - 270s 421ms/step - loss: 8.8893 - acc: 0.4485 - val_loss: 10.7909 - val_acc: 0.3305\n",
            "Epoch 27/100\n",
            "640/640 [==============================] - 269s 421ms/step - loss: 8.8417 - acc: 0.4514 - val_loss: 10.6543 - val_acc: 0.3390\n",
            "Epoch 00027: early stopping\n"
          ],
          "name": "stdout"
        }
      ]
    },
    {
      "cell_type": "code",
      "metadata": {
        "id": "Nw2e5Vt4PVZa",
        "colab_type": "code",
        "outputId": "64164f75-e3db-459d-de0b-6a0f82f14d35",
        "colab": {
          "base_uri": "https://localhost:8080/",
          "height": 279
        }
      },
      "source": [
        "# 모델 학습 과정 표시하기\n",
        "\n",
        "%matplotlib inline\n",
        "import matplotlib.pyplot as plt\n",
        "\n",
        "fig, loss_ax = plt.subplots()\n",
        "\n",
        "acc_ax = loss_ax.twinx()\n",
        "\n",
        "loss_ax.plot(hist.history['loss'], 'y', label='train loss')\n",
        "loss_ax.plot(hist.history['val_loss'], 'r', label='val loss')\n",
        "\n",
        "acc_ax.plot(hist.history['acc'], 'b', label='train acc')\n",
        "acc_ax.plot(hist.history['val_acc'], 'g', label='val acc')\n",
        "\n",
        "loss_ax.set_xlabel('epoch')\n",
        "loss_ax.set_ylabel('loss')\n",
        "acc_ax.set_ylabel('accuray')\n",
        "\n",
        "loss_ax.legend(loc='upper left')\n",
        "acc_ax.legend(loc='lower left')\n",
        "\n",
        "plt.show()"
      ],
      "execution_count": 0,
      "outputs": [
        {
          "output_type": "display_data",
          "data": {
            "image/png": "[encoded data removed]",
            "text/plain": [
              "<Figure size 432x288 with 2 Axes>"
            ]
          },
          "metadata": {
            "tags": []
          }
        }
      ]
    },
    {
      "cell_type": "markdown",
      "metadata": {
        "id": "ufHKAX2ePars",
        "colab_type": "text"
      },
      "source": [
        "# VGG16_Model 2"
      ]
    },
    {
      "cell_type": "markdown",
      "metadata": {
        "id": "qW7ksB8GPpBD",
        "colab_type": "text"
      },
      "source": [
        "* pre-trained network\n",
        "* weight='imagenet'\n",
        "* vgg16_model1.trainable = True\n",
        "* Dense 4096, 2048, 1024, 3"
      ]
    },
    {
      "cell_type": "code",
      "metadata": {
        "id": "SML4PHX3QFlU",
        "colab_type": "code",
        "outputId": "e301f0b2-27dd-4104-8092-5e3c14845f68",
        "colab": {
          "base_uri": "https://localhost:8080/",
          "height": 1000
        }
      },
      "source": [
        "VGGNet = VGG16(weights='imagenet')\n",
        "VGGNet.trainable = False\n",
        "\n",
        "VGGNet.summary()"
      ],
      "execution_count": 0,
      "outputs": [
        {
          "output_type": "stream",
          "text": [
            "WARNING:tensorflow:From /usr/local/lib/python3.6/dist-packages/keras/backend/tensorflow_backend.py:66: The name tf.get_default_graph is deprecated. Please use tf.compat.v1.get_default_graph instead.\n",
            "\n",
            "WARNING:tensorflow:From /usr/local/lib/python3.6/dist-packages/keras/backend/tensorflow_backend.py:541: The name tf.placeholder is deprecated. Please use tf.compat.v1.placeholder instead.\n",
            "\n",
            "WARNING:tensorflow:From /usr/local/lib/python3.6/dist-packages/keras/backend/tensorflow_backend.py:4432: The name tf.random_uniform is deprecated. Please use tf.random.uniform instead.\n",
            "\n",
            "WARNING:tensorflow:From /usr/local/lib/python3.6/dist-packages/keras/backend/tensorflow_backend.py:4267: The name tf.nn.max_pool is deprecated. Please use tf.nn.max_pool2d instead.\n",
            "\n",
            "Downloading data from https://github.com/fchollet/deep-learning-models/releases/download/v0.1/vgg16_weights_tf_dim_ordering_tf_kernels.h5\n",
            "553467904/553467096 [==============================] - 12s 0us/step\n",
            "WARNING:tensorflow:From /usr/local/lib/python3.6/dist-packages/keras/backend/tensorflow_backend.py:190: The name tf.get_default_session is deprecated. Please use tf.compat.v1.get_default_session instead.\n",
            "\n",
            "WARNING:tensorflow:From /usr/local/lib/python3.6/dist-packages/keras/backend/tensorflow_backend.py:197: The name tf.ConfigProto is deprecated. Please use tf.compat.v1.ConfigProto instead.\n",
            "\n",
            "WARNING:tensorflow:From /usr/local/lib/python3.6/dist-packages/keras/backend/tensorflow_backend.py:203: The name tf.Session is deprecated. Please use tf.compat.v1.Session instead.\n",
            "\n",
            "WARNING:tensorflow:From /usr/local/lib/python3.6/dist-packages/keras/backend/tensorflow_backend.py:207: The name tf.global_variables is deprecated. Please use tf.compat.v1.global_variables instead.\n",
            "\n",
            "WARNING:tensorflow:From /usr/local/lib/python3.6/dist-packages/keras/backend/tensorflow_backend.py:216: The name tf.is_variable_initialized is deprecated. Please use tf.compat.v1.is_variable_initialized instead.\n",
            "\n",
            "WARNING:tensorflow:From /usr/local/lib/python3.6/dist-packages/keras/backend/tensorflow_backend.py:223: The name tf.variables_initializer is deprecated. Please use tf.compat.v1.variables_initializer instead.\n",
            "\n",
            "Model: \"vgg16\"\n",
            "_________________________________________________________________\n",
            "Layer (type)                 Output Shape              Param #   \n",
            "=================================================================\n",
            "input_1 (InputLayer)         (None, 224, 224, 3)       0         \n",
            "_________________________________________________________________\n",
            "block1_conv1 (Conv2D)        (None, 224, 224, 64)      1792      \n",
            "_________________________________________________________________\n",
            "block1_conv2 (Conv2D)        (None, 224, 224, 64)      36928     \n",
            "_________________________________________________________________\n",
            "block1_pool (MaxPooling2D)   (None, 112, 112, 64)      0         \n",
            "_________________________________________________________________\n",
            "block2_conv1 (Conv2D)        (None, 112, 112, 128)     73856     \n",
            "_________________________________________________________________\n",
            "block2_conv2 (Conv2D)        (None, 112, 112, 128)     147584    \n",
            "_________________________________________________________________\n",
            "block2_pool (MaxPooling2D)   (None, 56, 56, 128)       0         \n",
            "_________________________________________________________________\n",
            "block3_conv1 (Conv2D)        (None, 56, 56, 256)       295168    \n",
            "_________________________________________________________________\n",
            "block3_conv2 (Conv2D)        (None, 56, 56, 256)       590080    \n",
            "_________________________________________________________________\n",
            "block3_conv3 (Conv2D)        (None, 56, 56, 256)       590080    \n",
            "_________________________________________________________________\n",
            "block3_pool (MaxPooling2D)   (None, 28, 28, 256)       0         \n",
            "_________________________________________________________________\n",
            "block4_conv1 (Conv2D)        (None, 28, 28, 512)       1180160   \n",
            "_________________________________________________________________\n",
            "block4_conv2 (Conv2D)        (None, 28, 28, 512)       2359808   \n",
            "_________________________________________________________________\n",
            "block4_conv3 (Conv2D)        (None, 28, 28, 512)       2359808   \n",
            "_________________________________________________________________\n",
            "block4_pool (MaxPooling2D)   (None, 14, 14, 512)       0         \n",
            "_________________________________________________________________\n",
            "block5_conv1 (Conv2D)        (None, 14, 14, 512)       2359808   \n",
            "_________________________________________________________________\n",
            "block5_conv2 (Conv2D)        (None, 14, 14, 512)       2359808   \n",
            "_________________________________________________________________\n",
            "block5_conv3 (Conv2D)        (None, 14, 14, 512)       2359808   \n",
            "_________________________________________________________________\n",
            "block5_pool (MaxPooling2D)   (None, 7, 7, 512)         0         \n",
            "_________________________________________________________________\n",
            "flatten (Flatten)            (None, 25088)             0         \n",
            "_________________________________________________________________\n",
            "fc1 (Dense)                  (None, 4096)              102764544 \n",
            "_________________________________________________________________\n",
            "fc2 (Dense)                  (None, 4096)              16781312  \n",
            "_________________________________________________________________\n",
            "predictions (Dense)          (None, 1000)              4097000   \n",
            "=================================================================\n",
            "Total params: 138,357,544\n",
            "Trainable params: 0\n",
            "Non-trainable params: 138,357,544\n",
            "_________________________________________________________________\n"
          ],
          "name": "stdout"
        }
      ]
    },
    {
      "cell_type": "code",
      "metadata": {
        "id": "OBwWcYvbQsZm",
        "colab_type": "code",
        "outputId": "9d96728e-5c95-490d-f94c-ffd386d5ff08",
        "colab": {
          "base_uri": "https://localhost:8080/",
          "height": 1000
        }
      },
      "source": [
        "vgg_maxpool5 = VGGNet.get_layer('block5_pool').output\n",
        "\n",
        "Feature_Flatten = Flatten()(vgg_maxpool5)\n",
        "dense1 = Dense(4096, activation='relu', kernel_initializer='he_normal', name='dense1')(Feature_Flatten)\n",
        "dense2 = Dense(2048, activation='relu', kernel_initializer='he_normal', name='dense2')(dense1)\n",
        "dense3 = Dense(1024, activation='relu', kernel_initializer='he_normal', name='dense3')(dense2)\n",
        "predictions = Dense(3, activation='softmax', name='output')(dense3)\n",
        "\n",
        "VGG16_Model2 = Model(inputs=VGGNet.input, outputs=predictions)\n",
        "\n",
        "VGG16_Model2.compile(optimizer='adam', loss='categorical_crossentropy', metrics = ['accuracy'])\n",
        "\n",
        "VGG16_Model2.summary()"
      ],
      "execution_count": 0,
      "outputs": [
        {
          "output_type": "stream",
          "text": [
            "WARNING:tensorflow:From /usr/local/lib/python3.6/dist-packages/keras/backend/tensorflow_backend.py:4479: The name tf.truncated_normal is deprecated. Please use tf.random.truncated_normal instead.\n",
            "\n",
            "WARNING:tensorflow:From /usr/local/lib/python3.6/dist-packages/keras/optimizers.py:793: The name tf.train.Optimizer is deprecated. Please use tf.compat.v1.train.Optimizer instead.\n",
            "\n",
            "WARNING:tensorflow:From /usr/local/lib/python3.6/dist-packages/keras/backend/tensorflow_backend.py:3576: The name tf.log is deprecated. Please use tf.math.log instead.\n",
            "\n",
            "Model: \"model_1\"\n",
            "_________________________________________________________________\n",
            "Layer (type)                 Output Shape              Param #   \n",
            "=================================================================\n",
            "input_1 (InputLayer)         (None, 224, 224, 3)       0         \n",
            "_________________________________________________________________\n",
            "block1_conv1 (Conv2D)        (None, 224, 224, 64)      1792      \n",
            "_________________________________________________________________\n",
            "block1_conv2 (Conv2D)        (None, 224, 224, 64)      36928     \n",
            "_________________________________________________________________\n",
            "block1_pool (MaxPooling2D)   (None, 112, 112, 64)      0         \n",
            "_________________________________________________________________\n",
            "block2_conv1 (Conv2D)        (None, 112, 112, 128)     73856     \n",
            "_________________________________________________________________\n",
            "block2_conv2 (Conv2D)        (None, 112, 112, 128)     147584    \n",
            "_________________________________________________________________\n",
            "block2_pool (MaxPooling2D)   (None, 56, 56, 128)       0         \n",
            "_________________________________________________________________\n",
            "block3_conv1 (Conv2D)        (None, 56, 56, 256)       295168    \n",
            "_________________________________________________________________\n",
            "block3_conv2 (Conv2D)        (None, 56, 56, 256)       590080    \n",
            "_________________________________________________________________\n",
            "block3_conv3 (Conv2D)        (None, 56, 56, 256)       590080    \n",
            "_________________________________________________________________\n",
            "block3_pool (MaxPooling2D)   (None, 28, 28, 256)       0         \n",
            "_________________________________________________________________\n",
            "block4_conv1 (Conv2D)        (None, 28, 28, 512)       1180160   \n",
            "_________________________________________________________________\n",
            "block4_conv2 (Conv2D)        (None, 28, 28, 512)       2359808   \n",
            "_________________________________________________________________\n",
            "block4_conv3 (Conv2D)        (None, 28, 28, 512)       2359808   \n",
            "_________________________________________________________________\n",
            "block4_pool (MaxPooling2D)   (None, 14, 14, 512)       0         \n",
            "_________________________________________________________________\n",
            "block5_conv1 (Conv2D)        (None, 14, 14, 512)       2359808   \n",
            "_________________________________________________________________\n",
            "block5_conv2 (Conv2D)        (None, 14, 14, 512)       2359808   \n",
            "_________________________________________________________________\n",
            "block5_conv3 (Conv2D)        (None, 14, 14, 512)       2359808   \n",
            "_________________________________________________________________\n",
            "block5_pool (MaxPooling2D)   (None, 7, 7, 512)         0         \n",
            "_________________________________________________________________\n",
            "flatten_1 (Flatten)          (None, 25088)             0         \n",
            "_________________________________________________________________\n",
            "dense1 (Dense)               (None, 4096)              102764544 \n",
            "_________________________________________________________________\n",
            "dense2 (Dense)               (None, 2048)              8390656   \n",
            "_________________________________________________________________\n",
            "dense3 (Dense)               (None, 1024)              2098176   \n",
            "_________________________________________________________________\n",
            "output (Dense)               (None, 3)                 3075      \n",
            "=================================================================\n",
            "Total params: 127,971,139\n",
            "Trainable params: 127,971,139\n",
            "Non-trainable params: 0\n",
            "_________________________________________________________________\n"
          ],
          "name": "stdout"
        }
      ]
    },
    {
      "cell_type": "code",
      "metadata": {
        "id": "VbnE36wHQ54P",
        "colab_type": "code",
        "colab": {}
      },
      "source": [
        "# 학습 조기종료\n",
        "\n",
        "es = EarlyStopping(monitor='val_loss', mode='min', verbose=1, patience=20)"
      ],
      "execution_count": 0,
      "outputs": []
    },
    {
      "cell_type": "code",
      "metadata": {
        "id": "k4OO_1PYQ-Kv",
        "colab_type": "code",
        "colab": {}
      },
      "source": [
        "# 최적 모델 선택 기법\n",
        "\n",
        "filepath = '/content/gdrive/My Drive/Galaxies-Classification-By-Using-Deep-Learing/best_VGG16_model2-{epoch:02d}-{val_acc:.2f}.h5'\n",
        "mc = ModelCheckpoint(filepath,\n",
        "                     monitor='val_loss',\n",
        "                     mode='min',\n",
        "                     save_best_only=True)"
      ],
      "execution_count": 0,
      "outputs": []
    },
    {
      "cell_type": "code",
      "metadata": {
        "id": "gPBcZ8GARC7a",
        "colab_type": "code",
        "outputId": "d84c9653-bdf9-49c5-bd26-214a243b92ca",
        "colab": {
          "base_uri": "https://localhost:8080/",
          "height": 1000
        }
      },
      "source": [
        "# 모델 학습시키기\n",
        "\n",
        "hist = VGG16_Model2.fit_generator(\n",
        "    train_generator,\n",
        "    steps_per_epoch=640,\n",
        "    epochs=100,\n",
        "    validation_data=val_generator,\n",
        "    validation_steps=30,\n",
        "    callbacks=[es,mc]\n",
        ")"
      ],
      "execution_count": 0,
      "outputs": [
        {
          "output_type": "stream",
          "text": [
            "WARNING:tensorflow:From /usr/local/lib/python3.6/dist-packages/tensorflow_core/python/ops/math_grad.py:1424: where (from tensorflow.python.ops.array_ops) is deprecated and will be removed in a future version.\n",
            "Instructions for updating:\n",
            "Use tf.where in 2.0, which has the same broadcast rule as np.where\n",
            "WARNING:tensorflow:From /usr/local/lib/python3.6/dist-packages/keras/backend/tensorflow_backend.py:1033: The name tf.assign_add is deprecated. Please use tf.compat.v1.assign_add instead.\n",
            "\n",
            "WARNING:tensorflow:From /usr/local/lib/python3.6/dist-packages/keras/backend/tensorflow_backend.py:1020: The name tf.assign is deprecated. Please use tf.compat.v1.assign instead.\n",
            "\n",
            "Epoch 1/100\n",
            "640/640 [==============================] - 3284s 5s/step - loss: 8.8684 - acc: 0.4489 - val_loss: 10.9805 - val_acc: 0.3187\n",
            "Epoch 2/100\n",
            "640/640 [==============================] - 269s 421ms/step - loss: 8.8824 - acc: 0.4489 - val_loss: 10.5519 - val_acc: 0.3453\n",
            "Epoch 3/100\n",
            "640/640 [==============================] - 270s 421ms/step - loss: 8.8777 - acc: 0.4492 - val_loss: 10.4836 - val_acc: 0.3496\n",
            "Epoch 4/100\n",
            "640/640 [==============================] - 270s 422ms/step - loss: 8.8774 - acc: 0.4492 - val_loss: 10.7226 - val_acc: 0.3347\n",
            "Epoch 5/100\n",
            "640/640 [==============================] - 270s 422ms/step - loss: 8.8789 - acc: 0.4491 - val_loss: 10.9469 - val_acc: 0.3208\n",
            "Epoch 6/100\n",
            "640/640 [==============================] - 270s 422ms/step - loss: 8.8896 - acc: 0.4485 - val_loss: 10.8934 - val_acc: 0.3242\n",
            "Epoch 7/100\n",
            "640/640 [==============================] - 270s 422ms/step - loss: 8.8553 - acc: 0.4506 - val_loss: 10.1421 - val_acc: 0.3708\n",
            "Epoch 8/100\n",
            "640/640 [==============================] - 270s 422ms/step - loss: 8.8865 - acc: 0.4487 - val_loss: 11.2690 - val_acc: 0.3008\n",
            "Epoch 9/100\n",
            "640/640 [==============================] - 270s 422ms/step - loss: 8.8777 - acc: 0.4492 - val_loss: 10.7226 - val_acc: 0.3347\n",
            "Epoch 10/100\n",
            "640/640 [==============================] - 270s 422ms/step - loss: 8.8978 - acc: 0.4480 - val_loss: 10.6447 - val_acc: 0.3396\n",
            "Epoch 11/100\n",
            "640/640 [==============================] - 270s 422ms/step - loss: 8.8707 - acc: 0.4496 - val_loss: 11.0300 - val_acc: 0.3157\n",
            "Epoch 12/100\n",
            "640/640 [==============================] - 270s 422ms/step - loss: 8.8947 - acc: 0.4482 - val_loss: 10.7226 - val_acc: 0.3347\n",
            "Epoch 13/100\n",
            "640/640 [==============================] - 270s 422ms/step - loss: 8.8704 - acc: 0.4497 - val_loss: 10.9275 - val_acc: 0.3220\n",
            "Epoch 14/100\n",
            "640/640 [==============================] - 271s 423ms/step - loss: 8.8777 - acc: 0.4492 - val_loss: 10.2787 - val_acc: 0.3623\n",
            "Epoch 15/100\n",
            "640/640 [==============================] - 271s 423ms/step - loss: 8.8774 - acc: 0.4492 - val_loss: 10.6782 - val_acc: 0.3375\n",
            "Epoch 16/100\n",
            "640/640 [==============================] - 270s 423ms/step - loss: 8.8868 - acc: 0.4486 - val_loss: 10.9617 - val_acc: 0.3199\n",
            "Epoch 17/100\n",
            "640/640 [==============================] - 271s 423ms/step - loss: 8.8636 - acc: 0.4501 - val_loss: 10.7568 - val_acc: 0.3326\n",
            "Epoch 18/100\n",
            "640/640 [==============================] - 271s 423ms/step - loss: 8.8749 - acc: 0.4494 - val_loss: 10.6202 - val_acc: 0.3411\n",
            "Epoch 19/100\n",
            "640/640 [==============================] - 270s 422ms/step - loss: 8.8970 - acc: 0.4480 - val_loss: 10.8251 - val_acc: 0.3284\n",
            "Epoch 20/100\n",
            "640/640 [==============================] - 271s 423ms/step - loss: 8.8711 - acc: 0.4496 - val_loss: 10.4432 - val_acc: 0.3521\n",
            "Epoch 21/100\n",
            "640/640 [==============================] - 271s 423ms/step - loss: 8.8963 - acc: 0.4481 - val_loss: 10.9958 - val_acc: 0.3178\n",
            "Epoch 22/100\n",
            "640/640 [==============================] - 271s 423ms/step - loss: 8.8483 - acc: 0.4510 - val_loss: 10.7909 - val_acc: 0.3305\n",
            "Epoch 23/100\n",
            "640/640 [==============================] - 271s 423ms/step - loss: 8.8746 - acc: 0.4494 - val_loss: 10.8251 - val_acc: 0.3284\n",
            "Epoch 24/100\n",
            "640/640 [==============================] - 271s 423ms/step - loss: 8.8676 - acc: 0.4498 - val_loss: 10.5439 - val_acc: 0.3458\n",
            "Epoch 25/100\n",
            "640/640 [==============================] - 270s 421ms/step - loss: 8.9342 - acc: 0.4457 - val_loss: 10.9958 - val_acc: 0.3178\n",
            "Epoch 26/100\n",
            "640/640 [==============================] - 270s 422ms/step - loss: 8.8517 - acc: 0.4508 - val_loss: 10.8251 - val_acc: 0.3284\n",
            "Epoch 27/100\n",
            "640/640 [==============================] - 271s 423ms/step - loss: 8.8802 - acc: 0.4491 - val_loss: 10.4494 - val_acc: 0.3517\n",
            "Epoch 00027: early stopping\n"
          ],
          "name": "stdout"
        }
      ]
    },
    {
      "cell_type": "code",
      "metadata": {
        "id": "mONV4d03RC_n",
        "colab_type": "code",
        "outputId": "6982c1ea-1e0f-4def-d13a-13f14499e6f6",
        "colab": {
          "base_uri": "https://localhost:8080/",
          "height": 279
        }
      },
      "source": [
        "# 모델 학습 과정 표시하기\n",
        "\n",
        "%matplotlib inline\n",
        "import matplotlib.pyplot as plt\n",
        "\n",
        "fig, loss_ax = plt.subplots()\n",
        "\n",
        "acc_ax = loss_ax.twinx()\n",
        "\n",
        "loss_ax.plot(hist.history['loss'], 'y', label='train loss')\n",
        "loss_ax.plot(hist.history['val_loss'], 'r', label='val loss')\n",
        "\n",
        "acc_ax.plot(hist.history['acc'], 'b', label='train acc')\n",
        "acc_ax.plot(hist.history['val_acc'], 'g', label='val acc')\n",
        "\n",
        "loss_ax.set_xlabel('epoch')\n",
        "loss_ax.set_ylabel('loss')\n",
        "acc_ax.set_ylabel('accuray')\n",
        "\n",
        "loss_ax.legend(loc='upper left')\n",
        "acc_ax.legend(loc='lower left')\n",
        "\n",
        "plt.show()"
      ],
      "execution_count": 0,
      "outputs": [
        {
          "output_type": "display_data",
          "data": {
            "image/png": "[encoded data removed]",
            "text/plain": [
              "<Figure size 432x288 with 2 Axes>"
            ]
          },
          "metadata": {
            "tags": []
          }
        }
      ]
    },
    {
      "cell_type": "code",
      "metadata": {
        "id": "5VVS1CGJmk9p",
        "colab_type": "code",
        "outputId": "fa6861f0-8f8e-447d-e5f1-c7e0a2c04a4f",
        "colab": {
          "base_uri": "https://localhost:8080/",
          "height": 34
        }
      },
      "source": [
        "cd gdrive/My Drive/Galaxies-Classification-By-Using-Deep-Learing"
      ],
      "execution_count": 4,
      "outputs": [
        {
          "output_type": "stream",
          "text": [
            "/content/gdrive/My Drive/Galaxies-Classification-By-Using-Deep-Learing\n"
          ],
          "name": "stdout"
        }
      ]
    },
    {
      "cell_type": "code",
      "metadata": {
        "id": "gkSGeCPJRDD2",
        "colab_type": "code",
        "colab": {
          "base_uri": "https://localhost:8080/",
          "height": 618
        },
        "outputId": "e2fb391d-da18-4d5b-d43e-6d0606af0719"
      },
      "source": [
        "# 모델 평가\n",
        "# 학습한 모델을 평가해봅니다. 제네레이터에서 제공되는 샘플로 평가할 때는 evaluate_generator 함수를 사용합니다.\n",
        "\n",
        "best_model1 = load_model('./best_VGG16_model1-07-0.37.h5')\n",
        "best_model2 = load_model('./best_VGG16_model2-07-0.37.h5')\n",
        "\n",
        "scores1 = best_model1.evaluate_generator(test_generator, steps=30)\n",
        "print(\"VGG16_model1 %s: %.2f%%\" %(best_model1.metrics_names[1], scores1[1]*100))\n",
        "scores2 = best_model2.evaluate_generator(test_generator, steps=30)\n",
        "print(\"VGG16_model2 %s: %.2f%%\" %(best_model2.metrics_names[1], scores2[1]*100))"
      ],
      "execution_count": 5,
      "outputs": [
        {
          "output_type": "stream",
          "text": [
            "WARNING:tensorflow:From /usr/local/lib/python3.6/dist-packages/keras/backend/tensorflow_backend.py:541: The name tf.placeholder is deprecated. Please use tf.compat.v1.placeholder instead.\n",
            "\n",
            "WARNING:tensorflow:From /usr/local/lib/python3.6/dist-packages/keras/backend/tensorflow_backend.py:4432: The name tf.random_uniform is deprecated. Please use tf.random.uniform instead.\n",
            "\n",
            "WARNING:tensorflow:From /usr/local/lib/python3.6/dist-packages/keras/backend/tensorflow_backend.py:4267: The name tf.nn.max_pool is deprecated. Please use tf.nn.max_pool2d instead.\n",
            "\n",
            "WARNING:tensorflow:From /usr/local/lib/python3.6/dist-packages/keras/backend/tensorflow_backend.py:4479: The name tf.truncated_normal is deprecated. Please use tf.random.truncated_normal instead.\n",
            "\n",
            "WARNING:tensorflow:From /usr/local/lib/python3.6/dist-packages/keras/backend/tensorflow_backend.py:190: The name tf.get_default_session is deprecated. Please use tf.compat.v1.get_default_session instead.\n",
            "\n",
            "WARNING:tensorflow:From /usr/local/lib/python3.6/dist-packages/keras/backend/tensorflow_backend.py:197: The name tf.ConfigProto is deprecated. Please use tf.compat.v1.ConfigProto instead.\n",
            "\n",
            "WARNING:tensorflow:From /usr/local/lib/python3.6/dist-packages/keras/backend/tensorflow_backend.py:203: The name tf.Session is deprecated. Please use tf.compat.v1.Session instead.\n",
            "\n",
            "WARNING:tensorflow:From /usr/local/lib/python3.6/dist-packages/keras/backend/tensorflow_backend.py:207: The name tf.global_variables is deprecated. Please use tf.compat.v1.global_variables instead.\n",
            "\n",
            "WARNING:tensorflow:From /usr/local/lib/python3.6/dist-packages/keras/backend/tensorflow_backend.py:216: The name tf.is_variable_initialized is deprecated. Please use tf.compat.v1.is_variable_initialized instead.\n",
            "\n",
            "WARNING:tensorflow:From /usr/local/lib/python3.6/dist-packages/keras/backend/tensorflow_backend.py:223: The name tf.variables_initializer is deprecated. Please use tf.compat.v1.variables_initializer instead.\n",
            "\n",
            "WARNING:tensorflow:From /usr/local/lib/python3.6/dist-packages/keras/optimizers.py:793: The name tf.train.Optimizer is deprecated. Please use tf.compat.v1.train.Optimizer instead.\n",
            "\n",
            "WARNING:tensorflow:From /usr/local/lib/python3.6/dist-packages/keras/backend/tensorflow_backend.py:3576: The name tf.log is deprecated. Please use tf.math.log instead.\n",
            "\n",
            "WARNING:tensorflow:From /usr/local/lib/python3.6/dist-packages/tensorflow_core/python/ops/math_grad.py:1424: where (from tensorflow.python.ops.array_ops) is deprecated and will be removed in a future version.\n",
            "Instructions for updating:\n",
            "Use tf.where in 2.0, which has the same broadcast rule as np.where\n",
            "WARNING:tensorflow:From /usr/local/lib/python3.6/dist-packages/keras/backend/tensorflow_backend.py:1033: The name tf.assign_add is deprecated. Please use tf.compat.v1.assign_add instead.\n",
            "\n",
            "WARNING:tensorflow:From /usr/local/lib/python3.6/dist-packages/keras/backend/tensorflow_backend.py:1020: The name tf.assign is deprecated. Please use tf.compat.v1.assign instead.\n",
            "\n",
            "VGG16_model1 acc: 32.29%\n",
            "VGG16_model2 acc: 32.29%\n"
          ],
          "name": "stdout"
        }
      ]
    },
    {
      "cell_type": "markdown",
      "metadata": {
        "id": "pWOOM1oQWKcq",
        "colab_type": "text"
      },
      "source": [
        "### VGG16 model load\n",
        "* https://eremo2002.tistory.com/57?category=779320"
      ]
    }
  ]
}